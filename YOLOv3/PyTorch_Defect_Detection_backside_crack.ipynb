{
 "cells": [
  {
   "cell_type": "code",
   "execution_count": null,
   "metadata": {
    "pycharm": {
     "name": "#%%\n",
     "is_executing": true
    }
   },
   "outputs": [],
   "source": [
    "import numpy as np\n",
    "\n",
    "from models import *\n",
    "from utils import *\n",
    "\n",
    "import os, sys, time, datetime, random\n",
    "import torch\n",
    "from torch.utils.data import DataLoader\n",
    "from torchvision import datasets, transforms\n",
    "from torch.autograd import Variable\n",
    "\n",
    "import matplotlib.pyplot as plt\n",
    "import matplotlib.patches as patches\n",
    "from PIL import Image\n",
    "import cv2\n",
    "import glob\n",
    "import pandas as pd"
   ]
  },
  {
   "cell_type": "code",
   "execution_count": 47,
   "metadata": {
    "scrolled": true,
    "pycharm": {
     "name": "#%%\n"
    }
   },
   "outputs": [
    {
     "name": "stderr",
     "output_type": "stream",
     "text": [
      "C:\\Users\\Mechano_2\\anaconda3\\envs\\yolov3_pytorch_on_backside_crack\\lib\\site-packages\\torch\\nn\\_reduction.py:44: UserWarning: size_average and reduce args will be deprecated, please use reduction='mean' instead.\n",
      "  warnings.warn(warning.format(ret))\n"
     ]
    }
   ],
   "source": [
    "config_path='config/yolov3.cfg'\n",
    "weights_path='config/yolov3.weights'\n",
    "class_path='config/coco.names'\n",
    "img_size=416\n",
    "conf_thres=0.9\n",
    "nms_thres=0.7\n",
    "\n",
    "# Load model and weights\n",
    "model = Darknet(config_path, img_size=img_size)\n",
    "model.load_weights(weights_path)\n",
    "model.cuda()\n",
    "model.eval()\n",
    "classes = utils.load_classes(class_path)\n",
    "Tensor = torch.cuda.FloatTensor\n",
    "from skimage.transform import resize"
   ]
  },
  {
   "cell_type": "code",
   "execution_count": 48,
   "metadata": {
    "pycharm": {
     "name": "#%%\n"
    }
   },
   "outputs": [],
   "source": [
    "def detect_image(img):\n",
    "    # # scale and pad image\n",
    "    # # img = transforms.ToPILImage()(img)\n",
    "    # ratio = min(img_size/img.shape[0], img_size/img.shape[1])\n",
    "    # imw = round(img.shape[1] * ratio)\n",
    "    # imh = round(img.shape[0] * ratio)\n",
    "    # print(ratio)\n",
    "    # print(imw)\n",
    "    # print(imh)\n",
    "    # img = cv2.resize(img, (imw,imh))\n",
    "    # print(img.shape)\n",
    "    # plt.imshow(img)\n",
    "    # left= max(int((imh-imw)/2),0)\n",
    "    # right= max(int((imh-imw)/2),0)\n",
    "    # top = max(int((imw-imh)/2),0)\n",
    "    # bottom = max(int((imw-imh)/2),0)\n",
    "    # img = np.pad(img, ((top, bottom),(left,right),(0,0)), mode = 'constant')\n",
    "    # img = np.array(img, dtype='float')\n",
    "    # print(np.amax(img[:,:,0]))\n",
    "    # print(img.shape)\n",
    "    # print(img[300][300])\n",
    "    # # img = img/255.0\n",
    "    # # print(img[200][200])\n",
    "    # print(img[:,:,0][300][300]/255.0)\n",
    "    # img[:,:,0]=(img[:,:,0]-np.amin(img[:,:,0]))/(np.amax(img[:,:,0])-np.amin(img[:,:,0]))\n",
    "    # img[:,:,1]=(img[:,:,1]-np.amin(img[:,:,1]))/(np.amax(img[:,:,1])-np.amin(img[:,:,1]))\n",
    "    # img[:,:,2]=(img[:,:,2]-np.amin(img[:,:,2]))/(np.amax(img[:,:,2])-np.amin(img[:,:,2]))\n",
    "    # # img[:,:,0]=(img[:,:,0])/255.0\n",
    "    # # img[:,:,1]=(img[:,:,1])/255.0\n",
    "    # # img[:,:,2]=(img[:,:,2])/255.0\n",
    "    # print(img.shape)\n",
    "    # print(img[300][300])\n",
    "    # print(np.amax(img[:,:,0]))\n",
    "    #\n",
    "    #\n",
    "    # # print(img1[300][300][0])\n",
    "    # # img[:,:,0]=(img[:,:,0]-np.amin(img[:,:,0]))/(np.amax(img[:,:,0])-np.amin(img[:,:,0]))\n",
    "    # # img[:,:,1]=(img[:,:,1]-np.amin(img[:,:,1]))/(np.amax(img[:,:,1])-np.amin(img[:,:,1]))\n",
    "    # # img[:,:,2]=(img[:,:,2]-np.amin(img[:,:,2]))/(np.amax(img[:,:,2])-np.amin(img[:,:,2]))\n",
    "    #\n",
    "    # # img[:,:,1]=(img[:,:,1]-np.min(img[:,:,1]))/(np.max(img[:,:,1])-np.min(img[:,:,1]))\n",
    "    # # img[:,:,2]=(img[:,:,2]-np.min(img[:,:,2]))/(np.max(img[:,:,2])-np.min(img[:,:,2]))\n",
    "    # # trans = transforms.Compose([transforms.ToTensor()])\n",
    "    # # image_tensor = trans(img).float()\n",
    "    #\n",
    "    # plt.imshow(img)\n",
    "    #\n",
    "    # # img = output = cv2.copyMakeBorder(img, max(int((imh-imw)/2),0), max(int((imh-imw)/2),0), max(int((imw-imh)/2),0), max(int((imw-imh)/2),0), cv2.BORDER_CONSTANT, (128,128,128))\n",
    "    #\n",
    "    # img = np.moveaxis(img,-1,0)\n",
    "    # # print(img.shape)\n",
    "    # # img = np.expand_dims(img,axis=0)\n",
    "    # # print(img.shape)\n",
    "    # # img_transforms = transforms.Compose([ transforms.Resize((imh, imw)),\n",
    "    # #      transforms.Pad((max(int((imh-imw)/2),0), max(int((imw-imh)/2),0), max(int((imh-imw)/2),0), max(int((imw-imh)/2),0)),\n",
    "    # #                     (128,128,128)),\n",
    "    # #      transforms.ToTensor(),\n",
    "    # #      ])\n",
    "    # # convert image to Tensor\n",
    "    # img = torch.from_numpy(img)\n",
    "    # # print(img.shape)\n",
    "    # #\n",
    "    # image_tensor = img.float()\n",
    "    #\n",
    "    # image_tensor = image_tensor.unsqueeze_(0)\n",
    "    # print(image_tensor.shape)\n",
    "    # input_img = Variable(image_tensor.type(Tensor))\n",
    "    # print(input_img[0][0][213][213])\n",
    "    img[:, :, 0] = 2 * (img[:, :, 0] - np.amin(img[:, :, 0])) / (np.amax(img[:, :, 0]) - np.amin(img[:, :, 0])) - 1\n",
    "    img[:, :, 1] = 2 * (img[:, :, 1] - np.amin(img[:, :, 1])) / (np.amax(img[:, :, 1]) - np.amin(img[:, :, 1])) - 1\n",
    "    img[:, :, 2] = 2 * (img[:, :, 2] - np.amin(img[:, :, 2])) / (np.amax(img[:, :, 2]) - np.amin(img[:, :, 2])) - 1\n",
    "    h, w, _ = img.shape\n",
    "    dim_diff = np.abs(h - w)\n",
    "        # Upper (left) and lower (right) padding\n",
    "    pad1, pad2 = dim_diff // 2, dim_diff - dim_diff // 2\n",
    "        # Determine padding\n",
    "    pad = ((pad1, pad2), (0, 0), (0, 0)) if h <= w else ((0, 0), (pad1, pad2), (0, 0))\n",
    "    img = np.pad(img, pad, 'constant', constant_values=0.0)\n",
    "        # Add padding\n",
    "    # img[:, :, 0] = (img[:, :, 0] - np.amin(img[:, :, 0])) / (np.amax(img[:, :, 0]) - np.amin(img[:, :, 0]))\n",
    "    # img[:, :, 1] = (img[:, :, 1] - np.amin(img[:, :, 1])) / (np.amax(img[:, :, 1]) - np.amin(img[:, :, 1]))\n",
    "    # img[:, :, 2] = (img[:, :, 2] - np.amin(img[:, :, 2])) / (np.amax(img[:, :, 2]) - np.amin(img[:, :, 2]))\n",
    "    # img[:, :, 0] = 2 * (img[:, :, 0] - np.amin(img[:, :, 0])) / (np.amax(img[:, :, 0]) - np.amin(img[:, :, 0])) - 1\n",
    "    # img[:, :, 1] = 2 * (img[:, :, 1] - np.amin(img[:, :, 1])) / (np.amax(img[:, :, 1]) - np.amin(img[:, :, 1])) - 1\n",
    "    # img[:, :, 2] = 2 * (img[:, :, 2] - np.amin(img[:, :, 2])) / (np.amax(img[:, :, 2]) - np.amin(img[:, :, 2])) - 1\n",
    "    # input_img = np.pad(img, pad, 'constant', constant_values=127.5) / 255.\n",
    "    # input_img = np.pad(img, pad, 'constant', constant_values=0.0)\n",
    "        # Resize and normalize\n",
    "    input_img = resize(img, (img_size, img_size, 3), mode='reflect')\n",
    "\n",
    "        # Channels-first\n",
    "    input_img = np.transpose(input_img, (2, 0, 1))\n",
    "        # As pytorch tensor\n",
    "    image_tensor = torch.from_numpy(input_img).float()\n",
    "    image_tensor = image_tensor.unsqueeze_(0)\n",
    "    input_img = Variable(image_tensor.type(Tensor))\n",
    "\n",
    "    # run inference on the model and get detections\n",
    "    with torch.no_grad():\n",
    "        detections = model(input_img)\n",
    "        detections = utils.non_max_suppression(detections, 6, conf_thres, nms_thres)\n",
    "    return detections[0]"
   ]
  },
  {
   "cell_type": "code",
   "execution_count": 49,
   "metadata": {
    "pycharm": {
     "name": "#%%\n"
    }
   },
   "outputs": [
    {
     "name": "stdout",
     "output_type": "stream",
     "text": [
      "['D:/PycharmProjects/Hiddencrack/tf-keras-frcnn/random_cropped_15_lang/images/circle_2p5\\\\000circle_2p5_0.npy', 'D:/PycharmProjects/Hiddencrack/tf-keras-frcnn/random_cropped_15_lang/images/circle_2p5\\\\000circle_2p5_1.npy', 'D:/PycharmProjects/Hiddencrack/tf-keras-frcnn/random_cropped_15_lang/images/circle_2p5\\\\001circle_2p5_0.npy', 'D:/PycharmProjects/Hiddencrack/tf-keras-frcnn/random_cropped_15_lang/images/circle_2p5\\\\001circle_2p5_1.npy', 'D:/PycharmProjects/Hiddencrack/tf-keras-frcnn/random_cropped_15_lang/images/circle_2p5\\\\002circle_2p5_0.npy', 'D:/PycharmProjects/Hiddencrack/tf-keras-frcnn/random_cropped_15_lang/images/circle_2p5\\\\002circle_2p5_1.npy', 'D:/PycharmProjects/Hiddencrack/tf-keras-frcnn/random_cropped_15_lang/images/circle_2p5\\\\003circle_2p5_0.npy', 'D:/PycharmProjects/Hiddencrack/tf-keras-frcnn/random_cropped_15_lang/images/circle_2p5\\\\003circle_2p5_1.npy', 'D:/PycharmProjects/Hiddencrack/tf-keras-frcnn/random_cropped_15_lang/images/circle_2p5\\\\004circle_2p5_0.npy', 'D:/PycharmProjects/Hiddencrack/tf-keras-frcnn/random_cropped_15_lang/images/circle_2p5\\\\004circle_2p5_1.npy', 'D:/PycharmProjects/Hiddencrack/tf-keras-frcnn/random_cropped_15_lang/images/circle_2p5\\\\005circle_2p5_0.npy', 'D:/PycharmProjects/Hiddencrack/tf-keras-frcnn/random_cropped_15_lang/images/circle_2p5\\\\005circle_2p5_1.npy', 'D:/PycharmProjects/Hiddencrack/tf-keras-frcnn/random_cropped_15_lang/images/circle_2p5\\\\006circle_2p5_0.npy', 'D:/PycharmProjects/Hiddencrack/tf-keras-frcnn/random_cropped_15_lang/images/circle_2p5\\\\006circle_2p5_1.npy', 'D:/PycharmProjects/Hiddencrack/tf-keras-frcnn/random_cropped_15_lang/images/circle_2p5\\\\007circle_2p5_0.npy', 'D:/PycharmProjects/Hiddencrack/tf-keras-frcnn/random_cropped_15_lang/images/circle_2p5\\\\007circle_2p5_1.npy', 'D:/PycharmProjects/Hiddencrack/tf-keras-frcnn/random_cropped_15_lang/images/circle_2p5\\\\008circle_2p5_0.npy', 'D:/PycharmProjects/Hiddencrack/tf-keras-frcnn/random_cropped_15_lang/images/circle_2p5\\\\008circle_2p5_1.npy', 'D:/PycharmProjects/Hiddencrack/tf-keras-frcnn/random_cropped_15_lang/images/circle_2p5\\\\009circle_2p5_0.npy', 'D:/PycharmProjects/Hiddencrack/tf-keras-frcnn/random_cropped_15_lang/images/circle_2p5\\\\009circle_2p5_1.npy', 'D:/PycharmProjects/Hiddencrack/tf-keras-frcnn/random_cropped_15_lang/images/circle_2p5\\\\010circle_2p5_0.npy', 'D:/PycharmProjects/Hiddencrack/tf-keras-frcnn/random_cropped_15_lang/images/circle_2p5\\\\010circle_2p5_1.npy', 'D:/PycharmProjects/Hiddencrack/tf-keras-frcnn/random_cropped_15_lang/images/circle_2p5\\\\011circle_2p5_0.npy', 'D:/PycharmProjects/Hiddencrack/tf-keras-frcnn/random_cropped_15_lang/images/circle_2p5\\\\011circle_2p5_1.npy', 'D:/PycharmProjects/Hiddencrack/tf-keras-frcnn/random_cropped_15_lang/images/circle_2p5\\\\012circle_2p5_0.npy', 'D:/PycharmProjects/Hiddencrack/tf-keras-frcnn/random_cropped_15_lang/images/circle_2p5\\\\012circle_2p5_1.npy', 'D:/PycharmProjects/Hiddencrack/tf-keras-frcnn/random_cropped_15_lang/images/circle_2p5\\\\013circle_2p5_0.npy', 'D:/PycharmProjects/Hiddencrack/tf-keras-frcnn/random_cropped_15_lang/images/circle_2p5\\\\013circle_2p5_1.npy', 'D:/PycharmProjects/Hiddencrack/tf-keras-frcnn/random_cropped_15_lang/images/circle_2p5\\\\014circle_2p5_0.npy', 'D:/PycharmProjects/Hiddencrack/tf-keras-frcnn/random_cropped_15_lang/images/circle_2p5\\\\014circle_2p5_1.npy', 'D:/PycharmProjects/Hiddencrack/tf-keras-frcnn/random_cropped_15_lang/images/circle_2p5\\\\015circle_2p5_0.npy', 'D:/PycharmProjects/Hiddencrack/tf-keras-frcnn/random_cropped_15_lang/images/circle_2p5\\\\015circle_2p5_1.npy', 'D:/PycharmProjects/Hiddencrack/tf-keras-frcnn/random_cropped_15_lang/images/circle_2p5\\\\016circle_2p5_0.npy', 'D:/PycharmProjects/Hiddencrack/tf-keras-frcnn/random_cropped_15_lang/images/circle_2p5\\\\016circle_2p5_1.npy', 'D:/PycharmProjects/Hiddencrack/tf-keras-frcnn/random_cropped_15_lang/images/circle_2p5\\\\017circle_2p5_0.npy', 'D:/PycharmProjects/Hiddencrack/tf-keras-frcnn/random_cropped_15_lang/images/circle_2p5\\\\017circle_2p5_1.npy', 'D:/PycharmProjects/Hiddencrack/tf-keras-frcnn/random_cropped_15_lang/images/circle_2p5\\\\018circle_2p5_0.npy', 'D:/PycharmProjects/Hiddencrack/tf-keras-frcnn/random_cropped_15_lang/images/circle_2p5\\\\018circle_2p5_1.npy', 'D:/PycharmProjects/Hiddencrack/tf-keras-frcnn/random_cropped_15_lang/images/circle_2p5\\\\019circle_2p5_0.npy', 'D:/PycharmProjects/Hiddencrack/tf-keras-frcnn/random_cropped_15_lang/images/circle_2p5\\\\019circle_2p5_1.npy', 'D:/PycharmProjects/Hiddencrack/tf-keras-frcnn/random_cropped_15_lang/images/circle_2p5\\\\020circle_2p5_0.npy', 'D:/PycharmProjects/Hiddencrack/tf-keras-frcnn/random_cropped_15_lang/images/circle_2p5\\\\020circle_2p5_1.npy', 'D:/PycharmProjects/Hiddencrack/tf-keras-frcnn/random_cropped_15_lang/images/circle_2p5\\\\021circle_2p5_0.npy', 'D:/PycharmProjects/Hiddencrack/tf-keras-frcnn/random_cropped_15_lang/images/circle_2p5\\\\021circle_2p5_1.npy', 'D:/PycharmProjects/Hiddencrack/tf-keras-frcnn/random_cropped_15_lang/images/circle_2p5\\\\022circle_2p5_0.npy', 'D:/PycharmProjects/Hiddencrack/tf-keras-frcnn/random_cropped_15_lang/images/circle_2p5\\\\022circle_2p5_1.npy', 'D:/PycharmProjects/Hiddencrack/tf-keras-frcnn/random_cropped_15_lang/images/circle_2p5\\\\023circle_2p5_0.npy', 'D:/PycharmProjects/Hiddencrack/tf-keras-frcnn/random_cropped_15_lang/images/circle_2p5\\\\023circle_2p5_1.npy', 'D:/PycharmProjects/Hiddencrack/tf-keras-frcnn/random_cropped_15_lang/images/circle_2p5\\\\024circle_2p5_0.npy', 'D:/PycharmProjects/Hiddencrack/tf-keras-frcnn/random_cropped_15_lang/images/circle_2p5\\\\024circle_2p5_1.npy', 'D:/PycharmProjects/Hiddencrack/tf-keras-frcnn/random_cropped_15_lang/images/circle_2p5\\\\025circle_2p5_0.npy', 'D:/PycharmProjects/Hiddencrack/tf-keras-frcnn/random_cropped_15_lang/images/circle_2p5\\\\025circle_2p5_1.npy', 'D:/PycharmProjects/Hiddencrack/tf-keras-frcnn/random_cropped_15_lang/images/circle_2p5\\\\026circle_2p5_0.npy', 'D:/PycharmProjects/Hiddencrack/tf-keras-frcnn/random_cropped_15_lang/images/circle_2p5\\\\026circle_2p5_1.npy', 'D:/PycharmProjects/Hiddencrack/tf-keras-frcnn/random_cropped_15_lang/images/circle_2p5\\\\027circle_2p5_0.npy', 'D:/PycharmProjects/Hiddencrack/tf-keras-frcnn/random_cropped_15_lang/images/circle_2p5\\\\027circle_2p5_1.npy', 'D:/PycharmProjects/Hiddencrack/tf-keras-frcnn/random_cropped_15_lang/images/circle_2p5\\\\028circle_2p5_0.npy', 'D:/PycharmProjects/Hiddencrack/tf-keras-frcnn/random_cropped_15_lang/images/circle_2p5\\\\028circle_2p5_1.npy', 'D:/PycharmProjects/Hiddencrack/tf-keras-frcnn/random_cropped_15_lang/images/circle_2p5\\\\029circle_2p5_0.npy', 'D:/PycharmProjects/Hiddencrack/tf-keras-frcnn/random_cropped_15_lang/images/circle_2p5\\\\029circle_2p5_1.npy', 'D:/PycharmProjects/Hiddencrack/tf-keras-frcnn/random_cropped_15_lang/images/circle_2p5\\\\030circle_2p5_0.npy', 'D:/PycharmProjects/Hiddencrack/tf-keras-frcnn/random_cropped_15_lang/images/circle_2p5\\\\030circle_2p5_1.npy', 'D:/PycharmProjects/Hiddencrack/tf-keras-frcnn/random_cropped_15_lang/images/circle_2p5\\\\031circle_2p5_0.npy', 'D:/PycharmProjects/Hiddencrack/tf-keras-frcnn/random_cropped_15_lang/images/circle_2p5\\\\031circle_2p5_1.npy', 'D:/PycharmProjects/Hiddencrack/tf-keras-frcnn/random_cropped_15_lang/images/circle_2p5\\\\032circle_2p5_0.npy', 'D:/PycharmProjects/Hiddencrack/tf-keras-frcnn/random_cropped_15_lang/images/circle_2p5\\\\032circle_2p5_1.npy', 'D:/PycharmProjects/Hiddencrack/tf-keras-frcnn/random_cropped_15_lang/images/circle_2p5\\\\033circle_2p5_0.npy', 'D:/PycharmProjects/Hiddencrack/tf-keras-frcnn/random_cropped_15_lang/images/circle_2p5\\\\033circle_2p5_1.npy', 'D:/PycharmProjects/Hiddencrack/tf-keras-frcnn/random_cropped_15_lang/images/circle_2p5\\\\034circle_2p5_0.npy', 'D:/PycharmProjects/Hiddencrack/tf-keras-frcnn/random_cropped_15_lang/images/circle_2p5\\\\034circle_2p5_1.npy', 'D:/PycharmProjects/Hiddencrack/tf-keras-frcnn/random_cropped_15_lang/images/circle_2p5\\\\035circle_2p5_0.npy', 'D:/PycharmProjects/Hiddencrack/tf-keras-frcnn/random_cropped_15_lang/images/circle_2p5\\\\035circle_2p5_1.npy', 'D:/PycharmProjects/Hiddencrack/tf-keras-frcnn/random_cropped_15_lang/images/circle_2p5\\\\036circle_2p5_0.npy', 'D:/PycharmProjects/Hiddencrack/tf-keras-frcnn/random_cropped_15_lang/images/circle_2p5\\\\036circle_2p5_1.npy', 'D:/PycharmProjects/Hiddencrack/tf-keras-frcnn/random_cropped_15_lang/images/circle_2p5\\\\037circle_2p5_0.npy', 'D:/PycharmProjects/Hiddencrack/tf-keras-frcnn/random_cropped_15_lang/images/circle_2p5\\\\037circle_2p5_1.npy', 'D:/PycharmProjects/Hiddencrack/tf-keras-frcnn/random_cropped_15_lang/images/circle_2p5\\\\038circle_2p5_0.npy', 'D:/PycharmProjects/Hiddencrack/tf-keras-frcnn/random_cropped_15_lang/images/circle_2p5\\\\038circle_2p5_1.npy', 'D:/PycharmProjects/Hiddencrack/tf-keras-frcnn/random_cropped_15_lang/images/circle_2p5\\\\039circle_2p5_0.npy', 'D:/PycharmProjects/Hiddencrack/tf-keras-frcnn/random_cropped_15_lang/images/circle_2p5\\\\039circle_2p5_1.npy', 'D:/PycharmProjects/Hiddencrack/tf-keras-frcnn/random_cropped_15_lang/images/circle_2p5\\\\040circle_2p5_0.npy', 'D:/PycharmProjects/Hiddencrack/tf-keras-frcnn/random_cropped_15_lang/images/circle_2p5\\\\040circle_2p5_1.npy', 'D:/PycharmProjects/Hiddencrack/tf-keras-frcnn/random_cropped_15_lang/images/circle_2p5\\\\041circle_2p5_0.npy', 'D:/PycharmProjects/Hiddencrack/tf-keras-frcnn/random_cropped_15_lang/images/circle_2p5\\\\041circle_2p5_1.npy', 'D:/PycharmProjects/Hiddencrack/tf-keras-frcnn/random_cropped_15_lang/images/circle_2p5\\\\042circle_2p5_0.npy', 'D:/PycharmProjects/Hiddencrack/tf-keras-frcnn/random_cropped_15_lang/images/circle_2p5\\\\042circle_2p5_1.npy', 'D:/PycharmProjects/Hiddencrack/tf-keras-frcnn/random_cropped_15_lang/images/circle_2p5\\\\043circle_2p5_0.npy', 'D:/PycharmProjects/Hiddencrack/tf-keras-frcnn/random_cropped_15_lang/images/circle_2p5\\\\043circle_2p5_1.npy', 'D:/PycharmProjects/Hiddencrack/tf-keras-frcnn/random_cropped_15_lang/images/circle_2p5\\\\044circle_2p5_0.npy', 'D:/PycharmProjects/Hiddencrack/tf-keras-frcnn/random_cropped_15_lang/images/circle_2p5\\\\044circle_2p5_1.npy', 'D:/PycharmProjects/Hiddencrack/tf-keras-frcnn/random_cropped_15_lang/images/circle_2p5\\\\045circle_2p5_0.npy', 'D:/PycharmProjects/Hiddencrack/tf-keras-frcnn/random_cropped_15_lang/images/circle_2p5\\\\045circle_2p5_1.npy', 'D:/PycharmProjects/Hiddencrack/tf-keras-frcnn/random_cropped_15_lang/images/circle_2p5\\\\046circle_2p5_0.npy', 'D:/PycharmProjects/Hiddencrack/tf-keras-frcnn/random_cropped_15_lang/images/circle_2p5\\\\046circle_2p5_1.npy', 'D:/PycharmProjects/Hiddencrack/tf-keras-frcnn/random_cropped_15_lang/images/circle_2p5\\\\047circle_2p5_0.npy', 'D:/PycharmProjects/Hiddencrack/tf-keras-frcnn/random_cropped_15_lang/images/circle_2p5\\\\047circle_2p5_1.npy', 'D:/PycharmProjects/Hiddencrack/tf-keras-frcnn/random_cropped_15_lang/images/circle_2p5\\\\048circle_2p5_0.npy', 'D:/PycharmProjects/Hiddencrack/tf-keras-frcnn/random_cropped_15_lang/images/circle_2p5\\\\048circle_2p5_1.npy', 'D:/PycharmProjects/Hiddencrack/tf-keras-frcnn/random_cropped_15_lang/images/circle_2p5\\\\049circle_2p5_0.npy', 'D:/PycharmProjects/Hiddencrack/tf-keras-frcnn/random_cropped_15_lang/images/circle_2p5\\\\049circle_2p5_1.npy', 'D:/PycharmProjects/Hiddencrack/tf-keras-frcnn/random_cropped_15_lang/images/circle_2p5\\\\050circle_2p5_0.npy', 'D:/PycharmProjects/Hiddencrack/tf-keras-frcnn/random_cropped_15_lang/images/circle_2p5\\\\050circle_2p5_1.npy', 'D:/PycharmProjects/Hiddencrack/tf-keras-frcnn/random_cropped_15_lang/images/circle_2p5\\\\051circle_2p5_0.npy', 'D:/PycharmProjects/Hiddencrack/tf-keras-frcnn/random_cropped_15_lang/images/circle_2p5\\\\051circle_2p5_1.npy', 'D:/PycharmProjects/Hiddencrack/tf-keras-frcnn/random_cropped_15_lang/images/circle_2p5\\\\052circle_2p5_0.npy', 'D:/PycharmProjects/Hiddencrack/tf-keras-frcnn/random_cropped_15_lang/images/circle_2p5\\\\052circle_2p5_1.npy', 'D:/PycharmProjects/Hiddencrack/tf-keras-frcnn/random_cropped_15_lang/images/circle_2p5\\\\053circle_2p5_0.npy', 'D:/PycharmProjects/Hiddencrack/tf-keras-frcnn/random_cropped_15_lang/images/circle_2p5\\\\053circle_2p5_1.npy', 'D:/PycharmProjects/Hiddencrack/tf-keras-frcnn/random_cropped_15_lang/images/circle_2p5\\\\054circle_2p5_0.npy', 'D:/PycharmProjects/Hiddencrack/tf-keras-frcnn/random_cropped_15_lang/images/circle_2p5\\\\054circle_2p5_1.npy', 'D:/PycharmProjects/Hiddencrack/tf-keras-frcnn/random_cropped_15_lang/images/circle_2p5\\\\055circle_2p5_0.npy', 'D:/PycharmProjects/Hiddencrack/tf-keras-frcnn/random_cropped_15_lang/images/circle_2p5\\\\055circle_2p5_1.npy', 'D:/PycharmProjects/Hiddencrack/tf-keras-frcnn/random_cropped_15_lang/images/circle_2p5\\\\056circle_2p5_0.npy', 'D:/PycharmProjects/Hiddencrack/tf-keras-frcnn/random_cropped_15_lang/images/circle_2p5\\\\056circle_2p5_1.npy', 'D:/PycharmProjects/Hiddencrack/tf-keras-frcnn/random_cropped_15_lang/images/circle_2p5\\\\057circle_2p5_0.npy', 'D:/PycharmProjects/Hiddencrack/tf-keras-frcnn/random_cropped_15_lang/images/circle_2p5\\\\057circle_2p5_1.npy', 'D:/PycharmProjects/Hiddencrack/tf-keras-frcnn/random_cropped_15_lang/images/circle_2p5\\\\058circle_2p5_0.npy', 'D:/PycharmProjects/Hiddencrack/tf-keras-frcnn/random_cropped_15_lang/images/circle_2p5\\\\058circle_2p5_1.npy', 'D:/PycharmProjects/Hiddencrack/tf-keras-frcnn/random_cropped_15_lang/images/circle_2p5\\\\059circle_2p5_0.npy', 'D:/PycharmProjects/Hiddencrack/tf-keras-frcnn/random_cropped_15_lang/images/circle_2p5\\\\059circle_2p5_1.npy', 'D:/PycharmProjects/Hiddencrack/tf-keras-frcnn/random_cropped_15_lang/images/circle_2p5\\\\060circle_2p5_0.npy', 'D:/PycharmProjects/Hiddencrack/tf-keras-frcnn/random_cropped_15_lang/images/circle_2p5\\\\060circle_2p5_1.npy', 'D:/PycharmProjects/Hiddencrack/tf-keras-frcnn/random_cropped_15_lang/images/circle_2p5\\\\061circle_2p5_0.npy', 'D:/PycharmProjects/Hiddencrack/tf-keras-frcnn/random_cropped_15_lang/images/circle_2p5\\\\061circle_2p5_1.npy', 'D:/PycharmProjects/Hiddencrack/tf-keras-frcnn/random_cropped_15_lang/images/circle_2p5\\\\062circle_2p5_0.npy', 'D:/PycharmProjects/Hiddencrack/tf-keras-frcnn/random_cropped_15_lang/images/circle_2p5\\\\062circle_2p5_1.npy', 'D:/PycharmProjects/Hiddencrack/tf-keras-frcnn/random_cropped_15_lang/images/circle_2p5\\\\063circle_2p5_0.npy', 'D:/PycharmProjects/Hiddencrack/tf-keras-frcnn/random_cropped_15_lang/images/circle_2p5\\\\063circle_2p5_1.npy', 'D:/PycharmProjects/Hiddencrack/tf-keras-frcnn/random_cropped_15_lang/images/circle_2p5\\\\064circle_2p5_0.npy', 'D:/PycharmProjects/Hiddencrack/tf-keras-frcnn/random_cropped_15_lang/images/circle_2p5\\\\064circle_2p5_1.npy', 'D:/PycharmProjects/Hiddencrack/tf-keras-frcnn/random_cropped_15_lang/images/circle_2p5\\\\065circle_2p5_0.npy', 'D:/PycharmProjects/Hiddencrack/tf-keras-frcnn/random_cropped_15_lang/images/circle_2p5\\\\065circle_2p5_1.npy', 'D:/PycharmProjects/Hiddencrack/tf-keras-frcnn/random_cropped_15_lang/images/circle_2p5\\\\066circle_2p5_0.npy', 'D:/PycharmProjects/Hiddencrack/tf-keras-frcnn/random_cropped_15_lang/images/circle_2p5\\\\066circle_2p5_1.npy', 'D:/PycharmProjects/Hiddencrack/tf-keras-frcnn/random_cropped_15_lang/images/circle_2p5\\\\067circle_2p5_0.npy', 'D:/PycharmProjects/Hiddencrack/tf-keras-frcnn/random_cropped_15_lang/images/circle_2p5\\\\067circle_2p5_1.npy', 'D:/PycharmProjects/Hiddencrack/tf-keras-frcnn/random_cropped_15_lang/images/circle_2p5\\\\068circle_2p5_0.npy', 'D:/PycharmProjects/Hiddencrack/tf-keras-frcnn/random_cropped_15_lang/images/circle_2p5\\\\068circle_2p5_1.npy', 'D:/PycharmProjects/Hiddencrack/tf-keras-frcnn/random_cropped_15_lang/images/circle_2p5\\\\069circle_2p5_0.npy', 'D:/PycharmProjects/Hiddencrack/tf-keras-frcnn/random_cropped_15_lang/images/circle_2p5\\\\069circle_2p5_1.npy', 'D:/PycharmProjects/Hiddencrack/tf-keras-frcnn/random_cropped_15_lang/images/circle_2p5\\\\070circle_2p5_0.npy', 'D:/PycharmProjects/Hiddencrack/tf-keras-frcnn/random_cropped_15_lang/images/circle_2p5\\\\070circle_2p5_1.npy', 'D:/PycharmProjects/Hiddencrack/tf-keras-frcnn/random_cropped_15_lang/images/circle_2p5\\\\071circle_2p5_0.npy', 'D:/PycharmProjects/Hiddencrack/tf-keras-frcnn/random_cropped_15_lang/images/circle_2p5\\\\071circle_2p5_1.npy', 'D:/PycharmProjects/Hiddencrack/tf-keras-frcnn/random_cropped_15_lang/images/circle_2p5\\\\072circle_2p5_0.npy', 'D:/PycharmProjects/Hiddencrack/tf-keras-frcnn/random_cropped_15_lang/images/circle_2p5\\\\072circle_2p5_1.npy', 'D:/PycharmProjects/Hiddencrack/tf-keras-frcnn/random_cropped_15_lang/images/circle_2p5\\\\073circle_2p5_0.npy', 'D:/PycharmProjects/Hiddencrack/tf-keras-frcnn/random_cropped_15_lang/images/circle_2p5\\\\073circle_2p5_1.npy', 'D:/PycharmProjects/Hiddencrack/tf-keras-frcnn/random_cropped_15_lang/images/circle_2p5\\\\074circle_2p5_0.npy', 'D:/PycharmProjects/Hiddencrack/tf-keras-frcnn/random_cropped_15_lang/images/circle_2p5\\\\074circle_2p5_1.npy', 'D:/PycharmProjects/Hiddencrack/tf-keras-frcnn/random_cropped_15_lang/images/circle_2p5\\\\075circle_2p5_0.npy', 'D:/PycharmProjects/Hiddencrack/tf-keras-frcnn/random_cropped_15_lang/images/circle_2p5\\\\075circle_2p5_1.npy', 'D:/PycharmProjects/Hiddencrack/tf-keras-frcnn/random_cropped_15_lang/images/circle_2p5\\\\076circle_2p5_0.npy', 'D:/PycharmProjects/Hiddencrack/tf-keras-frcnn/random_cropped_15_lang/images/circle_2p5\\\\076circle_2p5_1.npy', 'D:/PycharmProjects/Hiddencrack/tf-keras-frcnn/random_cropped_15_lang/images/circle_2p5\\\\077circle_2p5_0.npy', 'D:/PycharmProjects/Hiddencrack/tf-keras-frcnn/random_cropped_15_lang/images/circle_2p5\\\\077circle_2p5_1.npy', 'D:/PycharmProjects/Hiddencrack/tf-keras-frcnn/random_cropped_15_lang/images/circle_2p5\\\\078circle_2p5_0.npy', 'D:/PycharmProjects/Hiddencrack/tf-keras-frcnn/random_cropped_15_lang/images/circle_2p5\\\\078circle_2p5_1.npy', 'D:/PycharmProjects/Hiddencrack/tf-keras-frcnn/random_cropped_15_lang/images/circle_2p5\\\\079circle_2p5_0.npy', 'D:/PycharmProjects/Hiddencrack/tf-keras-frcnn/random_cropped_15_lang/images/circle_2p5\\\\079circle_2p5_1.npy', 'D:/PycharmProjects/Hiddencrack/tf-keras-frcnn/random_cropped_15_lang/images/circle_2p5\\\\080circle_2p5_0.npy', 'D:/PycharmProjects/Hiddencrack/tf-keras-frcnn/random_cropped_15_lang/images/circle_2p5\\\\080circle_2p5_1.npy', 'D:/PycharmProjects/Hiddencrack/tf-keras-frcnn/random_cropped_15_lang/images/circle_2p5\\\\081circle_2p5_0.npy', 'D:/PycharmProjects/Hiddencrack/tf-keras-frcnn/random_cropped_15_lang/images/circle_2p5\\\\081circle_2p5_1.npy', 'D:/PycharmProjects/Hiddencrack/tf-keras-frcnn/random_cropped_15_lang/images/circle_2p5\\\\082circle_2p5_0.npy', 'D:/PycharmProjects/Hiddencrack/tf-keras-frcnn/random_cropped_15_lang/images/circle_2p5\\\\082circle_2p5_1.npy', 'D:/PycharmProjects/Hiddencrack/tf-keras-frcnn/random_cropped_15_lang/images/circle_2p5\\\\083circle_2p5_0.npy', 'D:/PycharmProjects/Hiddencrack/tf-keras-frcnn/random_cropped_15_lang/images/circle_2p5\\\\083circle_2p5_1.npy', 'D:/PycharmProjects/Hiddencrack/tf-keras-frcnn/random_cropped_15_lang/images/circle_2p5\\\\084circle_2p5_0.npy', 'D:/PycharmProjects/Hiddencrack/tf-keras-frcnn/random_cropped_15_lang/images/circle_2p5\\\\084circle_2p5_1.npy', 'D:/PycharmProjects/Hiddencrack/tf-keras-frcnn/random_cropped_15_lang/images/circle_2p5\\\\085circle_2p5_0.npy', 'D:/PycharmProjects/Hiddencrack/tf-keras-frcnn/random_cropped_15_lang/images/circle_2p5\\\\085circle_2p5_1.npy', 'D:/PycharmProjects/Hiddencrack/tf-keras-frcnn/random_cropped_15_lang/images/circle_2p5\\\\086circle_2p5_0.npy', 'D:/PycharmProjects/Hiddencrack/tf-keras-frcnn/random_cropped_15_lang/images/circle_2p5\\\\086circle_2p5_1.npy', 'D:/PycharmProjects/Hiddencrack/tf-keras-frcnn/random_cropped_15_lang/images/circle_2p5\\\\087circle_2p5_0.npy', 'D:/PycharmProjects/Hiddencrack/tf-keras-frcnn/random_cropped_15_lang/images/circle_2p5\\\\087circle_2p5_1.npy', 'D:/PycharmProjects/Hiddencrack/tf-keras-frcnn/random_cropped_15_lang/images/circle_2p5\\\\088circle_2p5_0.npy', 'D:/PycharmProjects/Hiddencrack/tf-keras-frcnn/random_cropped_15_lang/images/circle_2p5\\\\088circle_2p5_1.npy', 'D:/PycharmProjects/Hiddencrack/tf-keras-frcnn/random_cropped_15_lang/images/circle_2p5\\\\089circle_2p5_0.npy', 'D:/PycharmProjects/Hiddencrack/tf-keras-frcnn/random_cropped_15_lang/images/circle_2p5\\\\089circle_2p5_1.npy', 'D:/PycharmProjects/Hiddencrack/tf-keras-frcnn/random_cropped_15_lang/images/circle_2p5\\\\090circle_2p5_0.npy', 'D:/PycharmProjects/Hiddencrack/tf-keras-frcnn/random_cropped_15_lang/images/circle_2p5\\\\090circle_2p5_1.npy', 'D:/PycharmProjects/Hiddencrack/tf-keras-frcnn/random_cropped_15_lang/images/circle_2p5\\\\091circle_2p5_0.npy', 'D:/PycharmProjects/Hiddencrack/tf-keras-frcnn/random_cropped_15_lang/images/circle_2p5\\\\091circle_2p5_1.npy', 'D:/PycharmProjects/Hiddencrack/tf-keras-frcnn/random_cropped_15_lang/images/circle_2p5\\\\092circle_2p5_0.npy', 'D:/PycharmProjects/Hiddencrack/tf-keras-frcnn/random_cropped_15_lang/images/circle_2p5\\\\092circle_2p5_1.npy', 'D:/PycharmProjects/Hiddencrack/tf-keras-frcnn/random_cropped_15_lang/images/circle_2p5\\\\093circle_2p5_0.npy', 'D:/PycharmProjects/Hiddencrack/tf-keras-frcnn/random_cropped_15_lang/images/circle_2p5\\\\093circle_2p5_1.npy', 'D:/PycharmProjects/Hiddencrack/tf-keras-frcnn/random_cropped_15_lang/images/circle_2p5\\\\094circle_2p5_0.npy', 'D:/PycharmProjects/Hiddencrack/tf-keras-frcnn/random_cropped_15_lang/images/circle_2p5\\\\094circle_2p5_1.npy', 'D:/PycharmProjects/Hiddencrack/tf-keras-frcnn/random_cropped_15_lang/images/circle_2p5\\\\095circle_2p5_0.npy', 'D:/PycharmProjects/Hiddencrack/tf-keras-frcnn/random_cropped_15_lang/images/circle_2p5\\\\095circle_2p5_1.npy', 'D:/PycharmProjects/Hiddencrack/tf-keras-frcnn/random_cropped_15_lang/images/circle_2p5\\\\096circle_2p5_0.npy', 'D:/PycharmProjects/Hiddencrack/tf-keras-frcnn/random_cropped_15_lang/images/circle_2p5\\\\096circle_2p5_1.npy', 'D:/PycharmProjects/Hiddencrack/tf-keras-frcnn/random_cropped_15_lang/images/circle_2p5\\\\097circle_2p5_0.npy', 'D:/PycharmProjects/Hiddencrack/tf-keras-frcnn/random_cropped_15_lang/images/circle_2p5\\\\097circle_2p5_1.npy', 'D:/PycharmProjects/Hiddencrack/tf-keras-frcnn/random_cropped_15_lang/images/circle_2p5\\\\098circle_2p5_0.npy', 'D:/PycharmProjects/Hiddencrack/tf-keras-frcnn/random_cropped_15_lang/images/circle_2p5\\\\098circle_2p5_1.npy', 'D:/PycharmProjects/Hiddencrack/tf-keras-frcnn/random_cropped_15_lang/images/circle_2p5\\\\099circle_2p5_0.npy', 'D:/PycharmProjects/Hiddencrack/tf-keras-frcnn/random_cropped_15_lang/images/circle_2p5\\\\099circle_2p5_1.npy', 'D:/PycharmProjects/Hiddencrack/tf-keras-frcnn/random_cropped_15_lang/images/circle_2p5\\\\100circle_2p5_0.npy', 'D:/PycharmProjects/Hiddencrack/tf-keras-frcnn/random_cropped_15_lang/images/circle_2p5\\\\100circle_2p5_1.npy']\n"
     ]
    }
   ],
   "source": [
    "# load image and get detections\n",
    "img_path = list(glob.glob('D:/PycharmProjects/Hiddencrack/tf-keras-frcnn/random_cropped_15_lang/images/circle_2p5/*.npy'))\n",
    "print(img_path)"
   ]
  },
  {
   "cell_type": "code",
   "execution_count": 50,
   "outputs": [
    {
     "name": "stdout",
     "output_type": "stream",
     "text": [
      "000circle_2p5_0\n",
      "(600, 400, 3)\n",
      "Inference Time: 0:00:00.385121\n",
      "277.3333333333333\n",
      "416.0\n",
      "000circle_2p5_1\n",
      "(600, 400, 3)\n"
     ]
    },
    {
     "name": "stderr",
     "output_type": "stream",
     "text": [
      "C:\\Users\\Mechano_2\\AppData\\Local\\Temp\\ipykernel_28832\\1081909300.py:47: FutureWarning: The frame.append method is deprecated and will be removed from pandas in a future version. Use pandas.concat instead.\n",
      "  record_df = record_df.append(new_row, ignore_index=True)\n"
     ]
    },
    {
     "name": "stdout",
     "output_type": "stream",
     "text": [
      "Inference Time: 0:00:00.221772\n",
      "277.3333333333333\n",
      "416.0\n",
      "001circle_2p5_0\n",
      "(600, 400, 3)\n",
      "Inference Time: 0:00:00.224434\n",
      "277.3333333333333\n",
      "416.0\n",
      "001circle_2p5_1\n",
      "(600, 400, 3)\n"
     ]
    },
    {
     "name": "stderr",
     "output_type": "stream",
     "text": [
      "C:\\Users\\Mechano_2\\AppData\\Local\\Temp\\ipykernel_28832\\1081909300.py:47: FutureWarning: The frame.append method is deprecated and will be removed from pandas in a future version. Use pandas.concat instead.\n",
      "  record_df = record_df.append(new_row, ignore_index=True)\n",
      "C:\\Users\\Mechano_2\\AppData\\Local\\Temp\\ipykernel_28832\\1081909300.py:47: FutureWarning: The frame.append method is deprecated and will be removed from pandas in a future version. Use pandas.concat instead.\n",
      "  record_df = record_df.append(new_row, ignore_index=True)\n"
     ]
    },
    {
     "name": "stdout",
     "output_type": "stream",
     "text": [
      "Inference Time: 0:00:00.225687\n",
      "277.3333333333333\n",
      "416.0\n",
      "002circle_2p5_0\n",
      "(600, 400, 3)\n"
     ]
    },
    {
     "name": "stderr",
     "output_type": "stream",
     "text": [
      "C:\\Users\\Mechano_2\\AppData\\Local\\Temp\\ipykernel_28832\\1081909300.py:47: FutureWarning: The frame.append method is deprecated and will be removed from pandas in a future version. Use pandas.concat instead.\n",
      "  record_df = record_df.append(new_row, ignore_index=True)\n",
      "C:\\Users\\Mechano_2\\AppData\\Local\\Temp\\ipykernel_28832\\1081909300.py:47: FutureWarning: The frame.append method is deprecated and will be removed from pandas in a future version. Use pandas.concat instead.\n",
      "  record_df = record_df.append(new_row, ignore_index=True)\n"
     ]
    },
    {
     "name": "stdout",
     "output_type": "stream",
     "text": [
      "Inference Time: 0:00:00.210285\n",
      "277.3333333333333\n",
      "416.0\n",
      "002circle_2p5_1\n",
      "(600, 400, 3)\n",
      "Inference Time: 0:00:00.217490\n",
      "277.3333333333333\n",
      "416.0\n",
      "003circle_2p5_0\n",
      "(600, 400, 3)\n"
     ]
    },
    {
     "name": "stderr",
     "output_type": "stream",
     "text": [
      "C:\\Users\\Mechano_2\\AppData\\Local\\Temp\\ipykernel_28832\\1081909300.py:47: FutureWarning: The frame.append method is deprecated and will be removed from pandas in a future version. Use pandas.concat instead.\n",
      "  record_df = record_df.append(new_row, ignore_index=True)\n"
     ]
    },
    {
     "name": "stdout",
     "output_type": "stream",
     "text": [
      "Inference Time: 0:00:00.219756\n",
      "277.3333333333333\n",
      "416.0\n",
      "003circle_2p5_1\n",
      "(600, 400, 3)\n",
      "Inference Time: 0:00:00.215192\n",
      "277.3333333333333\n",
      "416.0\n",
      "004circle_2p5_0\n",
      "(600, 400, 3)\n"
     ]
    },
    {
     "name": "stderr",
     "output_type": "stream",
     "text": [
      "C:\\Users\\Mechano_2\\AppData\\Local\\Temp\\ipykernel_28832\\1081909300.py:47: FutureWarning: The frame.append method is deprecated and will be removed from pandas in a future version. Use pandas.concat instead.\n",
      "  record_df = record_df.append(new_row, ignore_index=True)\n"
     ]
    },
    {
     "name": "stdout",
     "output_type": "stream",
     "text": [
      "Inference Time: 0:00:00.211300\n",
      "277.3333333333333\n",
      "416.0\n",
      "004circle_2p5_1\n",
      "(600, 400, 3)\n",
      "Inference Time: 0:00:00.214801\n",
      "277.3333333333333\n",
      "416.0\n",
      "005circle_2p5_0\n",
      "(600, 400, 3)\n",
      "Inference Time: 0:00:00.213319\n",
      "277.3333333333333\n",
      "416.0\n",
      "005circle_2p5_1\n",
      "(600, 400, 3)\n",
      "Inference Time: 0:00:00.228924\n",
      "277.3333333333333\n",
      "416.0\n",
      "006circle_2p5_0\n",
      "(600, 400, 3)\n",
      "Inference Time: 0:00:00.207783\n",
      "277.3333333333333\n",
      "416.0\n",
      "006circle_2p5_1\n",
      "(600, 400, 3)\n",
      "Inference Time: 0:00:00.229290\n",
      "277.3333333333333\n",
      "416.0\n",
      "007circle_2p5_0\n",
      "(600, 400, 3)\n",
      "Inference Time: 0:00:00.209538\n",
      "277.3333333333333\n",
      "416.0\n",
      "007circle_2p5_1\n",
      "(600, 400, 3)\n",
      "Inference Time: 0:00:00.218997\n",
      "277.3333333333333\n",
      "416.0\n",
      "008circle_2p5_0\n",
      "(600, 400, 3)\n",
      "Inference Time: 0:00:00.192164\n",
      "277.3333333333333\n",
      "416.0\n",
      "008circle_2p5_1\n",
      "(600, 400, 3)\n",
      "Inference Time: 0:00:00.222941\n",
      "277.3333333333333\n",
      "416.0\n",
      "009circle_2p5_0\n",
      "(600, 400, 3)\n",
      "Inference Time: 0:00:00.274043\n",
      "277.3333333333333\n",
      "416.0\n",
      "009circle_2p5_1\n",
      "(600, 400, 3)\n",
      "Inference Time: 0:00:00.237682\n",
      "277.3333333333333\n",
      "416.0\n",
      "010circle_2p5_0\n",
      "(600, 400, 3)\n",
      "Inference Time: 0:00:00.277293\n",
      "277.3333333333333\n",
      "416.0\n",
      "010circle_2p5_1\n",
      "(600, 400, 3)\n",
      "Inference Time: 0:00:00.146919\n",
      "277.3333333333333\n",
      "416.0\n",
      "011circle_2p5_0\n",
      "(600, 400, 3)\n",
      "Inference Time: 0:00:00.189601\n",
      "277.3333333333333\n",
      "416.0\n",
      "011circle_2p5_1\n",
      "(600, 400, 3)\n",
      "Inference Time: 0:00:00.213260\n",
      "277.3333333333333\n",
      "416.0\n",
      "012circle_2p5_0\n",
      "(600, 400, 3)\n",
      "Inference Time: 0:00:00.248307\n",
      "277.3333333333333\n",
      "416.0\n",
      "012circle_2p5_1\n",
      "(600, 400, 3)\n",
      "Inference Time: 0:00:00.147971\n",
      "277.3333333333333\n",
      "416.0\n",
      "013circle_2p5_0\n",
      "(600, 400, 3)\n",
      "Inference Time: 0:00:00.165392\n",
      "277.3333333333333\n",
      "416.0\n",
      "013circle_2p5_1\n",
      "(600, 400, 3)\n",
      "Inference Time: 0:00:00.236308\n",
      "277.3333333333333\n",
      "416.0\n",
      "014circle_2p5_0\n",
      "(600, 400, 3)\n",
      "Inference Time: 0:00:00.209252\n",
      "277.3333333333333\n",
      "416.0\n",
      "014circle_2p5_1\n",
      "(600, 400, 3)\n",
      "Inference Time: 0:00:00.272286\n",
      "277.3333333333333\n",
      "416.0\n",
      "015circle_2p5_0\n",
      "(600, 400, 3)\n"
     ]
    },
    {
     "name": "stderr",
     "output_type": "stream",
     "text": [
      "C:\\Users\\Mechano_2\\AppData\\Local\\Temp\\ipykernel_28832\\1081909300.py:47: FutureWarning: The frame.append method is deprecated and will be removed from pandas in a future version. Use pandas.concat instead.\n",
      "  record_df = record_df.append(new_row, ignore_index=True)\n"
     ]
    },
    {
     "name": "stdout",
     "output_type": "stream",
     "text": [
      "Inference Time: 0:00:00.141643\n",
      "277.3333333333333\n",
      "416.0\n",
      "015circle_2p5_1\n",
      "(600, 400, 3)\n",
      "Inference Time: 0:00:00.181235\n",
      "277.3333333333333\n",
      "416.0\n",
      "016circle_2p5_0\n",
      "(600, 400, 3)\n",
      "Inference Time: 0:00:00.176188\n",
      "277.3333333333333\n",
      "416.0\n",
      "016circle_2p5_1\n",
      "(600, 400, 3)\n"
     ]
    },
    {
     "name": "stderr",
     "output_type": "stream",
     "text": [
      "C:\\Users\\Mechano_2\\AppData\\Local\\Temp\\ipykernel_28832\\1081909300.py:47: FutureWarning: The frame.append method is deprecated and will be removed from pandas in a future version. Use pandas.concat instead.\n",
      "  record_df = record_df.append(new_row, ignore_index=True)\n"
     ]
    },
    {
     "name": "stdout",
     "output_type": "stream",
     "text": [
      "Inference Time: 0:00:00.204250\n",
      "277.3333333333333\n",
      "416.0\n",
      "017circle_2p5_0\n",
      "(600, 400, 3)\n",
      "Inference Time: 0:00:00.184529\n",
      "277.3333333333333\n",
      "416.0\n",
      "017circle_2p5_1\n"
     ]
    },
    {
     "name": "stderr",
     "output_type": "stream",
     "text": [
      "C:\\Users\\Mechano_2\\AppData\\Local\\Temp\\ipykernel_28832\\1081909300.py:47: FutureWarning: The frame.append method is deprecated and will be removed from pandas in a future version. Use pandas.concat instead.\n",
      "  record_df = record_df.append(new_row, ignore_index=True)\n"
     ]
    },
    {
     "name": "stdout",
     "output_type": "stream",
     "text": [
      "(600, 400, 3)\n",
      "Inference Time: 0:00:00.188491\n",
      "277.3333333333333\n",
      "416.0\n",
      "018circle_2p5_0\n",
      "(600, 400, 3)\n",
      "Inference Time: 0:00:00.193385\n",
      "277.3333333333333\n",
      "416.0\n",
      "018circle_2p5_1\n",
      "(600, 400, 3)\n"
     ]
    },
    {
     "name": "stderr",
     "output_type": "stream",
     "text": [
      "C:\\Users\\Mechano_2\\AppData\\Local\\Temp\\ipykernel_28832\\1081909300.py:47: FutureWarning: The frame.append method is deprecated and will be removed from pandas in a future version. Use pandas.concat instead.\n",
      "  record_df = record_df.append(new_row, ignore_index=True)\n",
      "C:\\Users\\Mechano_2\\AppData\\Local\\Temp\\ipykernel_28832\\1081909300.py:47: FutureWarning: The frame.append method is deprecated and will be removed from pandas in a future version. Use pandas.concat instead.\n",
      "  record_df = record_df.append(new_row, ignore_index=True)\n",
      "C:\\Users\\Mechano_2\\AppData\\Local\\Temp\\ipykernel_28832\\1081909300.py:47: FutureWarning: The frame.append method is deprecated and will be removed from pandas in a future version. Use pandas.concat instead.\n",
      "  record_df = record_df.append(new_row, ignore_index=True)\n"
     ]
    },
    {
     "name": "stdout",
     "output_type": "stream",
     "text": [
      "Inference Time: 0:00:00.199796\n",
      "277.3333333333333\n",
      "416.0\n",
      "019circle_2p5_0\n",
      "(600, 400, 3)\n"
     ]
    },
    {
     "name": "stderr",
     "output_type": "stream",
     "text": [
      "C:\\Users\\Mechano_2\\AppData\\Local\\Temp\\ipykernel_28832\\1081909300.py:47: FutureWarning: The frame.append method is deprecated and will be removed from pandas in a future version. Use pandas.concat instead.\n",
      "  record_df = record_df.append(new_row, ignore_index=True)\n"
     ]
    },
    {
     "name": "stdout",
     "output_type": "stream",
     "text": [
      "Inference Time: 0:00:00.235503\n",
      "277.3333333333333\n",
      "416.0\n",
      "019circle_2p5_1\n",
      "(600, 400, 3)\n"
     ]
    },
    {
     "name": "stderr",
     "output_type": "stream",
     "text": [
      "C:\\Users\\Mechano_2\\AppData\\Local\\Temp\\ipykernel_28832\\1081909300.py:47: FutureWarning: The frame.append method is deprecated and will be removed from pandas in a future version. Use pandas.concat instead.\n",
      "  record_df = record_df.append(new_row, ignore_index=True)\n"
     ]
    },
    {
     "name": "stdout",
     "output_type": "stream",
     "text": [
      "Inference Time: 0:00:00.285736\n",
      "277.3333333333333\n",
      "416.0\n",
      "020circle_2p5_0\n",
      "(600, 400, 3)\n",
      "Inference Time: 0:00:00.149953\n",
      "277.3333333333333\n",
      "416.0\n",
      "020circle_2p5_1\n",
      "(600, 400, 3)\n"
     ]
    },
    {
     "name": "stderr",
     "output_type": "stream",
     "text": [
      "C:\\Users\\Mechano_2\\AppData\\Local\\Temp\\ipykernel_28832\\1081909300.py:47: FutureWarning: The frame.append method is deprecated and will be removed from pandas in a future version. Use pandas.concat instead.\n",
      "  record_df = record_df.append(new_row, ignore_index=True)\n",
      "C:\\Users\\Mechano_2\\AppData\\Local\\Temp\\ipykernel_28832\\1081909300.py:47: FutureWarning: The frame.append method is deprecated and will be removed from pandas in a future version. Use pandas.concat instead.\n",
      "  record_df = record_df.append(new_row, ignore_index=True)\n"
     ]
    },
    {
     "name": "stdout",
     "output_type": "stream",
     "text": [
      "Inference Time: 0:00:00.171822\n",
      "277.3333333333333\n",
      "416.0\n",
      "021circle_2p5_0\n",
      "(600, 400, 3)\n",
      "Inference Time: 0:00:00.191496\n",
      "277.3333333333333\n",
      "416.0\n"
     ]
    },
    {
     "name": "stderr",
     "output_type": "stream",
     "text": [
      "C:\\Users\\Mechano_2\\AppData\\Local\\Temp\\ipykernel_28832\\1081909300.py:47: FutureWarning: The frame.append method is deprecated and will be removed from pandas in a future version. Use pandas.concat instead.\n",
      "  record_df = record_df.append(new_row, ignore_index=True)\n",
      "C:\\Users\\Mechano_2\\AppData\\Local\\Temp\\ipykernel_28832\\1081909300.py:47: FutureWarning: The frame.append method is deprecated and will be removed from pandas in a future version. Use pandas.concat instead.\n",
      "  record_df = record_df.append(new_row, ignore_index=True)\n",
      "C:\\Users\\Mechano_2\\AppData\\Local\\Temp\\ipykernel_28832\\1081909300.py:47: FutureWarning: The frame.append method is deprecated and will be removed from pandas in a future version. Use pandas.concat instead.\n",
      "  record_df = record_df.append(new_row, ignore_index=True)\n"
     ]
    },
    {
     "name": "stdout",
     "output_type": "stream",
     "text": [
      "021circle_2p5_1\n",
      "(600, 400, 3)\n",
      "Inference Time: 0:00:00.197955\n",
      "277.3333333333333\n",
      "416.0\n",
      "022circle_2p5_0\n",
      "(600, 400, 3)\n",
      "Inference Time: 0:00:00.212051\n",
      "277.3333333333333\n",
      "416.0\n",
      "022circle_2p5_1\n"
     ]
    },
    {
     "name": "stderr",
     "output_type": "stream",
     "text": [
      "C:\\Users\\Mechano_2\\AppData\\Local\\Temp\\ipykernel_28832\\1081909300.py:47: FutureWarning: The frame.append method is deprecated and will be removed from pandas in a future version. Use pandas.concat instead.\n",
      "  record_df = record_df.append(new_row, ignore_index=True)\n",
      "C:\\Users\\Mechano_2\\AppData\\Local\\Temp\\ipykernel_28832\\1081909300.py:47: FutureWarning: The frame.append method is deprecated and will be removed from pandas in a future version. Use pandas.concat instead.\n",
      "  record_df = record_df.append(new_row, ignore_index=True)\n",
      "C:\\Users\\Mechano_2\\AppData\\Local\\Temp\\ipykernel_28832\\1081909300.py:47: FutureWarning: The frame.append method is deprecated and will be removed from pandas in a future version. Use pandas.concat instead.\n",
      "  record_df = record_df.append(new_row, ignore_index=True)\n"
     ]
    },
    {
     "name": "stdout",
     "output_type": "stream",
     "text": [
      "(600, 400, 3)\n",
      "Inference Time: 0:00:00.197938\n",
      "277.3333333333333\n",
      "416.0\n",
      "023circle_2p5_0\n",
      "(600, 400, 3)\n",
      "Inference Time: 0:00:00.203017\n",
      "277.3333333333333\n",
      "416.0\n",
      "023circle_2p5_1\n"
     ]
    },
    {
     "name": "stderr",
     "output_type": "stream",
     "text": [
      "C:\\Users\\Mechano_2\\AppData\\Local\\Temp\\ipykernel_28832\\1081909300.py:47: FutureWarning: The frame.append method is deprecated and will be removed from pandas in a future version. Use pandas.concat instead.\n",
      "  record_df = record_df.append(new_row, ignore_index=True)\n",
      "C:\\Users\\Mechano_2\\AppData\\Local\\Temp\\ipykernel_28832\\1081909300.py:47: FutureWarning: The frame.append method is deprecated and will be removed from pandas in a future version. Use pandas.concat instead.\n",
      "  record_df = record_df.append(new_row, ignore_index=True)\n",
      "C:\\Users\\Mechano_2\\AppData\\Local\\Temp\\ipykernel_28832\\1081909300.py:47: FutureWarning: The frame.append method is deprecated and will be removed from pandas in a future version. Use pandas.concat instead.\n",
      "  record_df = record_df.append(new_row, ignore_index=True)\n"
     ]
    },
    {
     "name": "stdout",
     "output_type": "stream",
     "text": [
      "(600, 400, 3)\n",
      "Inference Time: 0:00:00.261217\n",
      "277.3333333333333\n",
      "416.0\n",
      "024circle_2p5_0\n"
     ]
    },
    {
     "name": "stderr",
     "output_type": "stream",
     "text": [
      "C:\\Users\\Mechano_2\\AppData\\Local\\Temp\\ipykernel_28832\\1081909300.py:47: FutureWarning: The frame.append method is deprecated and will be removed from pandas in a future version. Use pandas.concat instead.\n",
      "  record_df = record_df.append(new_row, ignore_index=True)\n",
      "C:\\Users\\Mechano_2\\AppData\\Local\\Temp\\ipykernel_28832\\1081909300.py:47: FutureWarning: The frame.append method is deprecated and will be removed from pandas in a future version. Use pandas.concat instead.\n",
      "  record_df = record_df.append(new_row, ignore_index=True)\n"
     ]
    },
    {
     "name": "stdout",
     "output_type": "stream",
     "text": [
      "(600, 400, 3)\n",
      "Inference Time: 0:00:00.212319\n",
      "277.3333333333333\n",
      "416.0\n",
      "024circle_2p5_1\n",
      "(600, 400, 3)\n"
     ]
    },
    {
     "name": "stderr",
     "output_type": "stream",
     "text": [
      "C:\\Users\\Mechano_2\\AppData\\Local\\Temp\\ipykernel_28832\\1081909300.py:47: FutureWarning: The frame.append method is deprecated and will be removed from pandas in a future version. Use pandas.concat instead.\n",
      "  record_df = record_df.append(new_row, ignore_index=True)\n",
      "C:\\Users\\Mechano_2\\AppData\\Local\\Temp\\ipykernel_28832\\1081909300.py:47: FutureWarning: The frame.append method is deprecated and will be removed from pandas in a future version. Use pandas.concat instead.\n",
      "  record_df = record_df.append(new_row, ignore_index=True)\n"
     ]
    },
    {
     "name": "stdout",
     "output_type": "stream",
     "text": [
      "Inference Time: 0:00:00.207723\n",
      "277.3333333333333\n",
      "416.0\n",
      "025circle_2p5_0\n",
      "(600, 400, 3)\n"
     ]
    },
    {
     "name": "stderr",
     "output_type": "stream",
     "text": [
      "C:\\Users\\Mechano_2\\AppData\\Local\\Temp\\ipykernel_28832\\1081909300.py:47: FutureWarning: The frame.append method is deprecated and will be removed from pandas in a future version. Use pandas.concat instead.\n",
      "  record_df = record_df.append(new_row, ignore_index=True)\n",
      "C:\\Users\\Mechano_2\\AppData\\Local\\Temp\\ipykernel_28832\\1081909300.py:47: FutureWarning: The frame.append method is deprecated and will be removed from pandas in a future version. Use pandas.concat instead.\n",
      "  record_df = record_df.append(new_row, ignore_index=True)\n"
     ]
    },
    {
     "name": "stdout",
     "output_type": "stream",
     "text": [
      "Inference Time: 0:00:00.210022\n",
      "277.3333333333333\n",
      "416.0\n",
      "025circle_2p5_1\n",
      "(600, 400, 3)\n"
     ]
    },
    {
     "name": "stderr",
     "output_type": "stream",
     "text": [
      "C:\\Users\\Mechano_2\\AppData\\Local\\Temp\\ipykernel_28832\\1081909300.py:47: FutureWarning: The frame.append method is deprecated and will be removed from pandas in a future version. Use pandas.concat instead.\n",
      "  record_df = record_df.append(new_row, ignore_index=True)\n",
      "C:\\Users\\Mechano_2\\AppData\\Local\\Temp\\ipykernel_28832\\1081909300.py:47: FutureWarning: The frame.append method is deprecated and will be removed from pandas in a future version. Use pandas.concat instead.\n",
      "  record_df = record_df.append(new_row, ignore_index=True)\n"
     ]
    },
    {
     "name": "stdout",
     "output_type": "stream",
     "text": [
      "Inference Time: 0:00:00.204288\n",
      "277.3333333333333\n",
      "416.0\n",
      "026circle_2p5_0\n",
      "(600, 400, 3)\n"
     ]
    },
    {
     "name": "stderr",
     "output_type": "stream",
     "text": [
      "C:\\Users\\Mechano_2\\AppData\\Local\\Temp\\ipykernel_28832\\1081909300.py:47: FutureWarning: The frame.append method is deprecated and will be removed from pandas in a future version. Use pandas.concat instead.\n",
      "  record_df = record_df.append(new_row, ignore_index=True)\n"
     ]
    },
    {
     "name": "stdout",
     "output_type": "stream",
     "text": [
      "Inference Time: 0:00:00.223797\n",
      "277.3333333333333\n",
      "416.0\n",
      "026circle_2p5_1\n",
      "(600, 400, 3)\n"
     ]
    },
    {
     "name": "stderr",
     "output_type": "stream",
     "text": [
      "C:\\Users\\Mechano_2\\AppData\\Local\\Temp\\ipykernel_28832\\1081909300.py:47: FutureWarning: The frame.append method is deprecated and will be removed from pandas in a future version. Use pandas.concat instead.\n",
      "  record_df = record_df.append(new_row, ignore_index=True)\n",
      "C:\\Users\\Mechano_2\\AppData\\Local\\Temp\\ipykernel_28832\\1081909300.py:47: FutureWarning: The frame.append method is deprecated and will be removed from pandas in a future version. Use pandas.concat instead.\n",
      "  record_df = record_df.append(new_row, ignore_index=True)\n",
      "C:\\Users\\Mechano_2\\AppData\\Local\\Temp\\ipykernel_28832\\1081909300.py:47: FutureWarning: The frame.append method is deprecated and will be removed from pandas in a future version. Use pandas.concat instead.\n",
      "  record_df = record_df.append(new_row, ignore_index=True)\n"
     ]
    },
    {
     "name": "stdout",
     "output_type": "stream",
     "text": [
      "Inference Time: 0:00:00.201840\n",
      "277.3333333333333\n",
      "416.0\n",
      "027circle_2p5_0\n",
      "(600, 400, 3)\n"
     ]
    },
    {
     "name": "stderr",
     "output_type": "stream",
     "text": [
      "C:\\Users\\Mechano_2\\AppData\\Local\\Temp\\ipykernel_28832\\1081909300.py:47: FutureWarning: The frame.append method is deprecated and will be removed from pandas in a future version. Use pandas.concat instead.\n",
      "  record_df = record_df.append(new_row, ignore_index=True)\n",
      "C:\\Users\\Mechano_2\\AppData\\Local\\Temp\\ipykernel_28832\\1081909300.py:47: FutureWarning: The frame.append method is deprecated and will be removed from pandas in a future version. Use pandas.concat instead.\n",
      "  record_df = record_df.append(new_row, ignore_index=True)\n",
      "C:\\Users\\Mechano_2\\AppData\\Local\\Temp\\ipykernel_28832\\1081909300.py:47: FutureWarning: The frame.append method is deprecated and will be removed from pandas in a future version. Use pandas.concat instead.\n",
      "  record_df = record_df.append(new_row, ignore_index=True)\n"
     ]
    },
    {
     "name": "stdout",
     "output_type": "stream",
     "text": [
      "Inference Time: 0:00:00.214164\n",
      "277.3333333333333\n",
      "416.0\n",
      "027circle_2p5_1\n",
      "(600, 400, 3)\n"
     ]
    },
    {
     "name": "stderr",
     "output_type": "stream",
     "text": [
      "C:\\Users\\Mechano_2\\AppData\\Local\\Temp\\ipykernel_28832\\1081909300.py:47: FutureWarning: The frame.append method is deprecated and will be removed from pandas in a future version. Use pandas.concat instead.\n",
      "  record_df = record_df.append(new_row, ignore_index=True)\n"
     ]
    },
    {
     "name": "stdout",
     "output_type": "stream",
     "text": [
      "Inference Time: 0:00:00.209501\n",
      "277.3333333333333\n",
      "416.0\n",
      "028circle_2p5_0\n",
      "(600, 400, 3)\n"
     ]
    },
    {
     "name": "stderr",
     "output_type": "stream",
     "text": [
      "C:\\Users\\Mechano_2\\AppData\\Local\\Temp\\ipykernel_28832\\1081909300.py:47: FutureWarning: The frame.append method is deprecated and will be removed from pandas in a future version. Use pandas.concat instead.\n",
      "  record_df = record_df.append(new_row, ignore_index=True)\n",
      "C:\\Users\\Mechano_2\\AppData\\Local\\Temp\\ipykernel_28832\\1081909300.py:47: FutureWarning: The frame.append method is deprecated and will be removed from pandas in a future version. Use pandas.concat instead.\n",
      "  record_df = record_df.append(new_row, ignore_index=True)\n",
      "C:\\Users\\Mechano_2\\AppData\\Local\\Temp\\ipykernel_28832\\1081909300.py:47: FutureWarning: The frame.append method is deprecated and will be removed from pandas in a future version. Use pandas.concat instead.\n",
      "  record_df = record_df.append(new_row, ignore_index=True)\n"
     ]
    },
    {
     "name": "stdout",
     "output_type": "stream",
     "text": [
      "Inference Time: 0:00:00.213417\n",
      "277.3333333333333\n",
      "416.0\n",
      "028circle_2p5_1\n",
      "(600, 400, 3)\n"
     ]
    },
    {
     "name": "stderr",
     "output_type": "stream",
     "text": [
      "C:\\Users\\Mechano_2\\AppData\\Local\\Temp\\ipykernel_28832\\1081909300.py:47: FutureWarning: The frame.append method is deprecated and will be removed from pandas in a future version. Use pandas.concat instead.\n",
      "  record_df = record_df.append(new_row, ignore_index=True)\n",
      "C:\\Users\\Mechano_2\\AppData\\Local\\Temp\\ipykernel_28832\\1081909300.py:47: FutureWarning: The frame.append method is deprecated and will be removed from pandas in a future version. Use pandas.concat instead.\n",
      "  record_df = record_df.append(new_row, ignore_index=True)\n",
      "C:\\Users\\Mechano_2\\AppData\\Local\\Temp\\ipykernel_28832\\1081909300.py:47: FutureWarning: The frame.append method is deprecated and will be removed from pandas in a future version. Use pandas.concat instead.\n",
      "  record_df = record_df.append(new_row, ignore_index=True)\n"
     ]
    },
    {
     "name": "stdout",
     "output_type": "stream",
     "text": [
      "Inference Time: 0:00:00.215876\n",
      "277.3333333333333\n",
      "416.0\n",
      "029circle_2p5_0\n",
      "(600, 400, 3)\n"
     ]
    },
    {
     "name": "stderr",
     "output_type": "stream",
     "text": [
      "C:\\Users\\Mechano_2\\AppData\\Local\\Temp\\ipykernel_28832\\1081909300.py:47: FutureWarning: The frame.append method is deprecated and will be removed from pandas in a future version. Use pandas.concat instead.\n",
      "  record_df = record_df.append(new_row, ignore_index=True)\n",
      "C:\\Users\\Mechano_2\\AppData\\Local\\Temp\\ipykernel_28832\\1081909300.py:47: FutureWarning: The frame.append method is deprecated and will be removed from pandas in a future version. Use pandas.concat instead.\n",
      "  record_df = record_df.append(new_row, ignore_index=True)\n"
     ]
    },
    {
     "name": "stdout",
     "output_type": "stream",
     "text": [
      "Inference Time: 0:00:00.239922\n",
      "277.3333333333333\n",
      "416.0\n",
      "029circle_2p5_1\n",
      "(600, 400, 3)\n"
     ]
    },
    {
     "name": "stderr",
     "output_type": "stream",
     "text": [
      "C:\\Users\\Mechano_2\\AppData\\Local\\Temp\\ipykernel_28832\\1081909300.py:47: FutureWarning: The frame.append method is deprecated and will be removed from pandas in a future version. Use pandas.concat instead.\n",
      "  record_df = record_df.append(new_row, ignore_index=True)\n",
      "C:\\Users\\Mechano_2\\AppData\\Local\\Temp\\ipykernel_28832\\1081909300.py:47: FutureWarning: The frame.append method is deprecated and will be removed from pandas in a future version. Use pandas.concat instead.\n",
      "  record_df = record_df.append(new_row, ignore_index=True)\n",
      "C:\\Users\\Mechano_2\\AppData\\Local\\Temp\\ipykernel_28832\\1081909300.py:47: FutureWarning: The frame.append method is deprecated and will be removed from pandas in a future version. Use pandas.concat instead.\n",
      "  record_df = record_df.append(new_row, ignore_index=True)\n"
     ]
    },
    {
     "name": "stdout",
     "output_type": "stream",
     "text": [
      "Inference Time: 0:00:00.228366\n",
      "277.3333333333333\n",
      "416.0\n",
      "030circle_2p5_0\n",
      "(600, 400, 3)\n"
     ]
    },
    {
     "name": "stderr",
     "output_type": "stream",
     "text": [
      "C:\\Users\\Mechano_2\\AppData\\Local\\Temp\\ipykernel_28832\\1081909300.py:47: FutureWarning: The frame.append method is deprecated and will be removed from pandas in a future version. Use pandas.concat instead.\n",
      "  record_df = record_df.append(new_row, ignore_index=True)\n",
      "C:\\Users\\Mechano_2\\AppData\\Local\\Temp\\ipykernel_28832\\1081909300.py:47: FutureWarning: The frame.append method is deprecated and will be removed from pandas in a future version. Use pandas.concat instead.\n",
      "  record_df = record_df.append(new_row, ignore_index=True)\n"
     ]
    },
    {
     "name": "stdout",
     "output_type": "stream",
     "text": [
      "Inference Time: 0:00:00.224945\n",
      "277.3333333333333\n",
      "416.0\n",
      "030circle_2p5_1\n",
      "(600, 400, 3)\n"
     ]
    },
    {
     "name": "stderr",
     "output_type": "stream",
     "text": [
      "C:\\Users\\Mechano_2\\AppData\\Local\\Temp\\ipykernel_28832\\1081909300.py:47: FutureWarning: The frame.append method is deprecated and will be removed from pandas in a future version. Use pandas.concat instead.\n",
      "  record_df = record_df.append(new_row, ignore_index=True)\n",
      "C:\\Users\\Mechano_2\\AppData\\Local\\Temp\\ipykernel_28832\\1081909300.py:47: FutureWarning: The frame.append method is deprecated and will be removed from pandas in a future version. Use pandas.concat instead.\n",
      "  record_df = record_df.append(new_row, ignore_index=True)\n"
     ]
    },
    {
     "name": "stdout",
     "output_type": "stream",
     "text": [
      "Inference Time: 0:00:00.225551\n",
      "277.3333333333333\n",
      "416.0\n",
      "031circle_2p5_0\n",
      "(600, 400, 3)\n"
     ]
    },
    {
     "name": "stderr",
     "output_type": "stream",
     "text": [
      "C:\\Users\\Mechano_2\\AppData\\Local\\Temp\\ipykernel_28832\\1081909300.py:47: FutureWarning: The frame.append method is deprecated and will be removed from pandas in a future version. Use pandas.concat instead.\n",
      "  record_df = record_df.append(new_row, ignore_index=True)\n",
      "C:\\Users\\Mechano_2\\AppData\\Local\\Temp\\ipykernel_28832\\1081909300.py:47: FutureWarning: The frame.append method is deprecated and will be removed from pandas in a future version. Use pandas.concat instead.\n",
      "  record_df = record_df.append(new_row, ignore_index=True)\n",
      "C:\\Users\\Mechano_2\\AppData\\Local\\Temp\\ipykernel_28832\\1081909300.py:47: FutureWarning: The frame.append method is deprecated and will be removed from pandas in a future version. Use pandas.concat instead.\n",
      "  record_df = record_df.append(new_row, ignore_index=True)\n"
     ]
    },
    {
     "name": "stdout",
     "output_type": "stream",
     "text": [
      "Inference Time: 0:00:00.216553\n",
      "277.3333333333333\n",
      "416.0\n",
      "031circle_2p5_1\n",
      "(600, 400, 3)\n"
     ]
    },
    {
     "name": "stderr",
     "output_type": "stream",
     "text": [
      "C:\\Users\\Mechano_2\\AppData\\Local\\Temp\\ipykernel_28832\\1081909300.py:47: FutureWarning: The frame.append method is deprecated and will be removed from pandas in a future version. Use pandas.concat instead.\n",
      "  record_df = record_df.append(new_row, ignore_index=True)\n",
      "C:\\Users\\Mechano_2\\AppData\\Local\\Temp\\ipykernel_28832\\1081909300.py:47: FutureWarning: The frame.append method is deprecated and will be removed from pandas in a future version. Use pandas.concat instead.\n",
      "  record_df = record_df.append(new_row, ignore_index=True)\n",
      "C:\\Users\\Mechano_2\\AppData\\Local\\Temp\\ipykernel_28832\\1081909300.py:47: FutureWarning: The frame.append method is deprecated and will be removed from pandas in a future version. Use pandas.concat instead.\n",
      "  record_df = record_df.append(new_row, ignore_index=True)\n"
     ]
    },
    {
     "name": "stdout",
     "output_type": "stream",
     "text": [
      "Inference Time: 0:00:00.194118\n",
      "277.3333333333333\n",
      "416.0\n",
      "032circle_2p5_0\n",
      "(600, 400, 3)\n"
     ]
    },
    {
     "name": "stderr",
     "output_type": "stream",
     "text": [
      "C:\\Users\\Mechano_2\\AppData\\Local\\Temp\\ipykernel_28832\\1081909300.py:47: FutureWarning: The frame.append method is deprecated and will be removed from pandas in a future version. Use pandas.concat instead.\n",
      "  record_df = record_df.append(new_row, ignore_index=True)\n",
      "C:\\Users\\Mechano_2\\AppData\\Local\\Temp\\ipykernel_28832\\1081909300.py:47: FutureWarning: The frame.append method is deprecated and will be removed from pandas in a future version. Use pandas.concat instead.\n",
      "  record_df = record_df.append(new_row, ignore_index=True)\n",
      "C:\\Users\\Mechano_2\\AppData\\Local\\Temp\\ipykernel_28832\\1081909300.py:47: FutureWarning: The frame.append method is deprecated and will be removed from pandas in a future version. Use pandas.concat instead.\n",
      "  record_df = record_df.append(new_row, ignore_index=True)\n"
     ]
    },
    {
     "name": "stdout",
     "output_type": "stream",
     "text": [
      "Inference Time: 0:00:00.202308\n",
      "277.3333333333333\n",
      "416.0\n",
      "032circle_2p5_1\n",
      "(600, 400, 3)\n"
     ]
    },
    {
     "name": "stderr",
     "output_type": "stream",
     "text": [
      "C:\\Users\\Mechano_2\\AppData\\Local\\Temp\\ipykernel_28832\\1081909300.py:47: FutureWarning: The frame.append method is deprecated and will be removed from pandas in a future version. Use pandas.concat instead.\n",
      "  record_df = record_df.append(new_row, ignore_index=True)\n",
      "C:\\Users\\Mechano_2\\AppData\\Local\\Temp\\ipykernel_28832\\1081909300.py:47: FutureWarning: The frame.append method is deprecated and will be removed from pandas in a future version. Use pandas.concat instead.\n",
      "  record_df = record_df.append(new_row, ignore_index=True)\n",
      "C:\\Users\\Mechano_2\\AppData\\Local\\Temp\\ipykernel_28832\\1081909300.py:47: FutureWarning: The frame.append method is deprecated and will be removed from pandas in a future version. Use pandas.concat instead.\n",
      "  record_df = record_df.append(new_row, ignore_index=True)\n"
     ]
    },
    {
     "name": "stdout",
     "output_type": "stream",
     "text": [
      "Inference Time: 0:00:00.289885\n",
      "277.3333333333333\n",
      "416.0\n",
      "033circle_2p5_0\n",
      "(600, 400, 3)\n",
      "Inference Time: 0:00:00.150951\n",
      "277.3333333333333\n",
      "416.0\n",
      "033circle_2p5_1\n"
     ]
    },
    {
     "name": "stderr",
     "output_type": "stream",
     "text": [
      "C:\\Users\\Mechano_2\\AppData\\Local\\Temp\\ipykernel_28832\\1081909300.py:47: FutureWarning: The frame.append method is deprecated and will be removed from pandas in a future version. Use pandas.concat instead.\n",
      "  record_df = record_df.append(new_row, ignore_index=True)\n",
      "C:\\Users\\Mechano_2\\AppData\\Local\\Temp\\ipykernel_28832\\1081909300.py:47: FutureWarning: The frame.append method is deprecated and will be removed from pandas in a future version. Use pandas.concat instead.\n",
      "  record_df = record_df.append(new_row, ignore_index=True)\n",
      "C:\\Users\\Mechano_2\\AppData\\Local\\Temp\\ipykernel_28832\\1081909300.py:47: FutureWarning: The frame.append method is deprecated and will be removed from pandas in a future version. Use pandas.concat instead.\n",
      "  record_df = record_df.append(new_row, ignore_index=True)\n",
      "C:\\Users\\Mechano_2\\AppData\\Local\\Temp\\ipykernel_28832\\1081909300.py:47: FutureWarning: The frame.append method is deprecated and will be removed from pandas in a future version. Use pandas.concat instead.\n",
      "  record_df = record_df.append(new_row, ignore_index=True)\n",
      "C:\\Users\\Mechano_2\\AppData\\Local\\Temp\\ipykernel_28832\\1081909300.py:47: FutureWarning: The frame.append method is deprecated and will be removed from pandas in a future version. Use pandas.concat instead.\n",
      "  record_df = record_df.append(new_row, ignore_index=True)\n",
      "C:\\Users\\Mechano_2\\AppData\\Local\\Temp\\ipykernel_28832\\1081909300.py:47: FutureWarning: The frame.append method is deprecated and will be removed from pandas in a future version. Use pandas.concat instead.\n",
      "  record_df = record_df.append(new_row, ignore_index=True)\n"
     ]
    },
    {
     "name": "stdout",
     "output_type": "stream",
     "text": [
      "(600, 400, 3)\n",
      "Inference Time: 0:00:00.169282\n",
      "277.3333333333333\n",
      "416.0\n",
      "034circle_2p5_0\n"
     ]
    },
    {
     "name": "stderr",
     "output_type": "stream",
     "text": [
      "C:\\Users\\Mechano_2\\AppData\\Local\\Temp\\ipykernel_28832\\1081909300.py:47: FutureWarning: The frame.append method is deprecated and will be removed from pandas in a future version. Use pandas.concat instead.\n",
      "  record_df = record_df.append(new_row, ignore_index=True)\n",
      "C:\\Users\\Mechano_2\\AppData\\Local\\Temp\\ipykernel_28832\\1081909300.py:47: FutureWarning: The frame.append method is deprecated and will be removed from pandas in a future version. Use pandas.concat instead.\n",
      "  record_df = record_df.append(new_row, ignore_index=True)\n",
      "C:\\Users\\Mechano_2\\AppData\\Local\\Temp\\ipykernel_28832\\1081909300.py:47: FutureWarning: The frame.append method is deprecated and will be removed from pandas in a future version. Use pandas.concat instead.\n",
      "  record_df = record_df.append(new_row, ignore_index=True)\n",
      "C:\\Users\\Mechano_2\\AppData\\Local\\Temp\\ipykernel_28832\\1081909300.py:47: FutureWarning: The frame.append method is deprecated and will be removed from pandas in a future version. Use pandas.concat instead.\n",
      "  record_df = record_df.append(new_row, ignore_index=True)\n"
     ]
    },
    {
     "name": "stdout",
     "output_type": "stream",
     "text": [
      "(600, 400, 3)\n",
      "Inference Time: 0:00:00.194506\n",
      "277.3333333333333\n",
      "416.0\n",
      "034circle_2p5_1\n",
      "(600, 400, 3)\n"
     ]
    },
    {
     "name": "stderr",
     "output_type": "stream",
     "text": [
      "C:\\Users\\Mechano_2\\AppData\\Local\\Temp\\ipykernel_28832\\1081909300.py:47: FutureWarning: The frame.append method is deprecated and will be removed from pandas in a future version. Use pandas.concat instead.\n",
      "  record_df = record_df.append(new_row, ignore_index=True)\n",
      "C:\\Users\\Mechano_2\\AppData\\Local\\Temp\\ipykernel_28832\\1081909300.py:47: FutureWarning: The frame.append method is deprecated and will be removed from pandas in a future version. Use pandas.concat instead.\n",
      "  record_df = record_df.append(new_row, ignore_index=True)\n"
     ]
    },
    {
     "name": "stdout",
     "output_type": "stream",
     "text": [
      "Inference Time: 0:00:00.193782\n",
      "277.3333333333333\n",
      "416.0\n",
      "035circle_2p5_0\n",
      "(600, 400, 3)\n",
      "Inference Time: 0:00:00.186153\n",
      "277.3333333333333\n",
      "416.0\n"
     ]
    },
    {
     "name": "stderr",
     "output_type": "stream",
     "text": [
      "C:\\Users\\Mechano_2\\AppData\\Local\\Temp\\ipykernel_28832\\1081909300.py:47: FutureWarning: The frame.append method is deprecated and will be removed from pandas in a future version. Use pandas.concat instead.\n",
      "  record_df = record_df.append(new_row, ignore_index=True)\n",
      "C:\\Users\\Mechano_2\\AppData\\Local\\Temp\\ipykernel_28832\\1081909300.py:47: FutureWarning: The frame.append method is deprecated and will be removed from pandas in a future version. Use pandas.concat instead.\n",
      "  record_df = record_df.append(new_row, ignore_index=True)\n",
      "C:\\Users\\Mechano_2\\AppData\\Local\\Temp\\ipykernel_28832\\1081909300.py:47: FutureWarning: The frame.append method is deprecated and will be removed from pandas in a future version. Use pandas.concat instead.\n",
      "  record_df = record_df.append(new_row, ignore_index=True)\n",
      "C:\\Users\\Mechano_2\\AppData\\Local\\Temp\\ipykernel_28832\\1081909300.py:47: FutureWarning: The frame.append method is deprecated and will be removed from pandas in a future version. Use pandas.concat instead.\n",
      "  record_df = record_df.append(new_row, ignore_index=True)\n",
      "C:\\Users\\Mechano_2\\AppData\\Local\\Temp\\ipykernel_28832\\1081909300.py:47: FutureWarning: The frame.append method is deprecated and will be removed from pandas in a future version. Use pandas.concat instead.\n",
      "  record_df = record_df.append(new_row, ignore_index=True)\n",
      "C:\\Users\\Mechano_2\\AppData\\Local\\Temp\\ipykernel_28832\\1081909300.py:47: FutureWarning: The frame.append method is deprecated and will be removed from pandas in a future version. Use pandas.concat instead.\n",
      "  record_df = record_df.append(new_row, ignore_index=True)\n"
     ]
    },
    {
     "name": "stdout",
     "output_type": "stream",
     "text": [
      "035circle_2p5_1\n",
      "(600, 400, 3)\n",
      "Inference Time: 0:00:00.186759\n",
      "277.3333333333333\n",
      "416.0\n",
      "036circle_2p5_0\n",
      "(600, 400, 3)\n",
      "Inference Time: 0:00:00.189753\n",
      "277.3333333333333\n",
      "416.0\n",
      "036circle_2p5_1\n"
     ]
    },
    {
     "name": "stderr",
     "output_type": "stream",
     "text": [
      "C:\\Users\\Mechano_2\\AppData\\Local\\Temp\\ipykernel_28832\\1081909300.py:47: FutureWarning: The frame.append method is deprecated and will be removed from pandas in a future version. Use pandas.concat instead.\n",
      "  record_df = record_df.append(new_row, ignore_index=True)\n",
      "C:\\Users\\Mechano_2\\AppData\\Local\\Temp\\ipykernel_28832\\1081909300.py:47: FutureWarning: The frame.append method is deprecated and will be removed from pandas in a future version. Use pandas.concat instead.\n",
      "  record_df = record_df.append(new_row, ignore_index=True)\n"
     ]
    },
    {
     "name": "stdout",
     "output_type": "stream",
     "text": [
      "(600, 400, 3)\n",
      "Inference Time: 0:00:00.217171\n",
      "277.3333333333333\n",
      "416.0\n",
      "037circle_2p5_0\n",
      "(600, 400, 3)\n"
     ]
    },
    {
     "name": "stderr",
     "output_type": "stream",
     "text": [
      "C:\\Users\\Mechano_2\\AppData\\Local\\Temp\\ipykernel_28832\\1081909300.py:47: FutureWarning: The frame.append method is deprecated and will be removed from pandas in a future version. Use pandas.concat instead.\n",
      "  record_df = record_df.append(new_row, ignore_index=True)\n",
      "C:\\Users\\Mechano_2\\AppData\\Local\\Temp\\ipykernel_28832\\1081909300.py:47: FutureWarning: The frame.append method is deprecated and will be removed from pandas in a future version. Use pandas.concat instead.\n",
      "  record_df = record_df.append(new_row, ignore_index=True)\n"
     ]
    },
    {
     "name": "stdout",
     "output_type": "stream",
     "text": [
      "Inference Time: 0:00:00.193939\n",
      "277.3333333333333\n",
      "416.0\n",
      "037circle_2p5_1\n",
      "(600, 400, 3)\n",
      "Inference Time: 0:00:00.193768\n",
      "277.3333333333333\n",
      "416.0\n"
     ]
    },
    {
     "name": "stderr",
     "output_type": "stream",
     "text": [
      "C:\\Users\\Mechano_2\\AppData\\Local\\Temp\\ipykernel_28832\\1081909300.py:47: FutureWarning: The frame.append method is deprecated and will be removed from pandas in a future version. Use pandas.concat instead.\n",
      "  record_df = record_df.append(new_row, ignore_index=True)\n",
      "C:\\Users\\Mechano_2\\AppData\\Local\\Temp\\ipykernel_28832\\1081909300.py:47: FutureWarning: The frame.append method is deprecated and will be removed from pandas in a future version. Use pandas.concat instead.\n",
      "  record_df = record_df.append(new_row, ignore_index=True)\n",
      "C:\\Users\\Mechano_2\\AppData\\Local\\Temp\\ipykernel_28832\\1081909300.py:47: FutureWarning: The frame.append method is deprecated and will be removed from pandas in a future version. Use pandas.concat instead.\n",
      "  record_df = record_df.append(new_row, ignore_index=True)\n",
      "C:\\Users\\Mechano_2\\AppData\\Local\\Temp\\ipykernel_28832\\1081909300.py:47: FutureWarning: The frame.append method is deprecated and will be removed from pandas in a future version. Use pandas.concat instead.\n",
      "  record_df = record_df.append(new_row, ignore_index=True)\n",
      "C:\\Users\\Mechano_2\\AppData\\Local\\Temp\\ipykernel_28832\\1081909300.py:47: FutureWarning: The frame.append method is deprecated and will be removed from pandas in a future version. Use pandas.concat instead.\n",
      "  record_df = record_df.append(new_row, ignore_index=True)\n",
      "C:\\Users\\Mechano_2\\AppData\\Local\\Temp\\ipykernel_28832\\1081909300.py:47: FutureWarning: The frame.append method is deprecated and will be removed from pandas in a future version. Use pandas.concat instead.\n",
      "  record_df = record_df.append(new_row, ignore_index=True)\n"
     ]
    },
    {
     "name": "stdout",
     "output_type": "stream",
     "text": [
      "038circle_2p5_0\n",
      "(600, 400, 3)\n",
      "Inference Time: 0:00:00.241592\n",
      "277.3333333333333\n",
      "416.0\n",
      "038circle_2p5_1\n",
      "(600, 400, 3)\n",
      "Inference Time: 0:00:00.187424\n",
      "277.3333333333333\n",
      "416.0\n"
     ]
    },
    {
     "name": "stderr",
     "output_type": "stream",
     "text": [
      "C:\\Users\\Mechano_2\\AppData\\Local\\Temp\\ipykernel_28832\\1081909300.py:47: FutureWarning: The frame.append method is deprecated and will be removed from pandas in a future version. Use pandas.concat instead.\n",
      "  record_df = record_df.append(new_row, ignore_index=True)\n",
      "C:\\Users\\Mechano_2\\AppData\\Local\\Temp\\ipykernel_28832\\1081909300.py:47: FutureWarning: The frame.append method is deprecated and will be removed from pandas in a future version. Use pandas.concat instead.\n",
      "  record_df = record_df.append(new_row, ignore_index=True)\n",
      "C:\\Users\\Mechano_2\\AppData\\Local\\Temp\\ipykernel_28832\\1081909300.py:47: FutureWarning: The frame.append method is deprecated and will be removed from pandas in a future version. Use pandas.concat instead.\n",
      "  record_df = record_df.append(new_row, ignore_index=True)\n",
      "C:\\Users\\Mechano_2\\AppData\\Local\\Temp\\ipykernel_28832\\1081909300.py:47: FutureWarning: The frame.append method is deprecated and will be removed from pandas in a future version. Use pandas.concat instead.\n",
      "  record_df = record_df.append(new_row, ignore_index=True)\n",
      "C:\\Users\\Mechano_2\\AppData\\Local\\Temp\\ipykernel_28832\\1081909300.py:47: FutureWarning: The frame.append method is deprecated and will be removed from pandas in a future version. Use pandas.concat instead.\n",
      "  record_df = record_df.append(new_row, ignore_index=True)\n",
      "C:\\Users\\Mechano_2\\AppData\\Local\\Temp\\ipykernel_28832\\1081909300.py:47: FutureWarning: The frame.append method is deprecated and will be removed from pandas in a future version. Use pandas.concat instead.\n",
      "  record_df = record_df.append(new_row, ignore_index=True)\n"
     ]
    },
    {
     "name": "stdout",
     "output_type": "stream",
     "text": [
      "039circle_2p5_0\n",
      "(600, 400, 3)\n",
      "Inference Time: 0:00:00.242243\n",
      "277.3333333333333\n",
      "416.0\n",
      "039circle_2p5_1\n",
      "(600, 400, 3)\n"
     ]
    },
    {
     "name": "stderr",
     "output_type": "stream",
     "text": [
      "C:\\Users\\Mechano_2\\AppData\\Local\\Temp\\ipykernel_28832\\1081909300.py:47: FutureWarning: The frame.append method is deprecated and will be removed from pandas in a future version. Use pandas.concat instead.\n",
      "  record_df = record_df.append(new_row, ignore_index=True)\n",
      "C:\\Users\\Mechano_2\\AppData\\Local\\Temp\\ipykernel_28832\\1081909300.py:47: FutureWarning: The frame.append method is deprecated and will be removed from pandas in a future version. Use pandas.concat instead.\n",
      "  record_df = record_df.append(new_row, ignore_index=True)\n",
      "C:\\Users\\Mechano_2\\AppData\\Local\\Temp\\ipykernel_28832\\1081909300.py:47: FutureWarning: The frame.append method is deprecated and will be removed from pandas in a future version. Use pandas.concat instead.\n",
      "  record_df = record_df.append(new_row, ignore_index=True)\n"
     ]
    },
    {
     "name": "stdout",
     "output_type": "stream",
     "text": [
      "Inference Time: 0:00:00.199831\n",
      "277.3333333333333\n",
      "416.0\n",
      "040circle_2p5_0\n",
      "(600, 400, 3)\n"
     ]
    },
    {
     "name": "stderr",
     "output_type": "stream",
     "text": [
      "C:\\Users\\Mechano_2\\AppData\\Local\\Temp\\ipykernel_28832\\1081909300.py:47: FutureWarning: The frame.append method is deprecated and will be removed from pandas in a future version. Use pandas.concat instead.\n",
      "  record_df = record_df.append(new_row, ignore_index=True)\n",
      "C:\\Users\\Mechano_2\\AppData\\Local\\Temp\\ipykernel_28832\\1081909300.py:47: FutureWarning: The frame.append method is deprecated and will be removed from pandas in a future version. Use pandas.concat instead.\n",
      "  record_df = record_df.append(new_row, ignore_index=True)\n",
      "C:\\Users\\Mechano_2\\AppData\\Local\\Temp\\ipykernel_28832\\1081909300.py:47: FutureWarning: The frame.append method is deprecated and will be removed from pandas in a future version. Use pandas.concat instead.\n",
      "  record_df = record_df.append(new_row, ignore_index=True)\n"
     ]
    },
    {
     "name": "stdout",
     "output_type": "stream",
     "text": [
      "Inference Time: 0:00:00.197955\n",
      "277.3333333333333\n",
      "416.0\n",
      "040circle_2p5_1\n",
      "(600, 400, 3)\n"
     ]
    },
    {
     "name": "stderr",
     "output_type": "stream",
     "text": [
      "C:\\Users\\Mechano_2\\AppData\\Local\\Temp\\ipykernel_28832\\1081909300.py:47: FutureWarning: The frame.append method is deprecated and will be removed from pandas in a future version. Use pandas.concat instead.\n",
      "  record_df = record_df.append(new_row, ignore_index=True)\n",
      "C:\\Users\\Mechano_2\\AppData\\Local\\Temp\\ipykernel_28832\\1081909300.py:47: FutureWarning: The frame.append method is deprecated and will be removed from pandas in a future version. Use pandas.concat instead.\n",
      "  record_df = record_df.append(new_row, ignore_index=True)\n",
      "C:\\Users\\Mechano_2\\AppData\\Local\\Temp\\ipykernel_28832\\1081909300.py:47: FutureWarning: The frame.append method is deprecated and will be removed from pandas in a future version. Use pandas.concat instead.\n",
      "  record_df = record_df.append(new_row, ignore_index=True)\n"
     ]
    },
    {
     "name": "stdout",
     "output_type": "stream",
     "text": [
      "Inference Time: 0:00:00.183941\n",
      "277.3333333333333\n",
      "416.0\n",
      "041circle_2p5_0\n",
      "(600, 400, 3)\n"
     ]
    },
    {
     "name": "stderr",
     "output_type": "stream",
     "text": [
      "C:\\Users\\Mechano_2\\AppData\\Local\\Temp\\ipykernel_28832\\1081909300.py:47: FutureWarning: The frame.append method is deprecated and will be removed from pandas in a future version. Use pandas.concat instead.\n",
      "  record_df = record_df.append(new_row, ignore_index=True)\n",
      "C:\\Users\\Mechano_2\\AppData\\Local\\Temp\\ipykernel_28832\\1081909300.py:47: FutureWarning: The frame.append method is deprecated and will be removed from pandas in a future version. Use pandas.concat instead.\n",
      "  record_df = record_df.append(new_row, ignore_index=True)\n",
      "C:\\Users\\Mechano_2\\AppData\\Local\\Temp\\ipykernel_28832\\1081909300.py:47: FutureWarning: The frame.append method is deprecated and will be removed from pandas in a future version. Use pandas.concat instead.\n",
      "  record_df = record_df.append(new_row, ignore_index=True)\n"
     ]
    },
    {
     "name": "stdout",
     "output_type": "stream",
     "text": [
      "Inference Time: 0:00:00.179117\n",
      "277.3333333333333\n",
      "416.0\n",
      "041circle_2p5_1\n",
      "(600, 400, 3)\n",
      "Inference Time: 0:00:00.185937\n",
      "277.3333333333333\n",
      "416.0\n",
      "042circle_2p5_0\n"
     ]
    },
    {
     "name": "stderr",
     "output_type": "stream",
     "text": [
      "C:\\Users\\Mechano_2\\AppData\\Local\\Temp\\ipykernel_28832\\1081909300.py:47: FutureWarning: The frame.append method is deprecated and will be removed from pandas in a future version. Use pandas.concat instead.\n",
      "  record_df = record_df.append(new_row, ignore_index=True)\n",
      "C:\\Users\\Mechano_2\\AppData\\Local\\Temp\\ipykernel_28832\\1081909300.py:47: FutureWarning: The frame.append method is deprecated and will be removed from pandas in a future version. Use pandas.concat instead.\n",
      "  record_df = record_df.append(new_row, ignore_index=True)\n",
      "C:\\Users\\Mechano_2\\AppData\\Local\\Temp\\ipykernel_28832\\1081909300.py:47: FutureWarning: The frame.append method is deprecated and will be removed from pandas in a future version. Use pandas.concat instead.\n",
      "  record_df = record_df.append(new_row, ignore_index=True)\n",
      "C:\\Users\\Mechano_2\\AppData\\Local\\Temp\\ipykernel_28832\\1081909300.py:47: FutureWarning: The frame.append method is deprecated and will be removed from pandas in a future version. Use pandas.concat instead.\n",
      "  record_df = record_df.append(new_row, ignore_index=True)\n",
      "C:\\Users\\Mechano_2\\AppData\\Local\\Temp\\ipykernel_28832\\1081909300.py:47: FutureWarning: The frame.append method is deprecated and will be removed from pandas in a future version. Use pandas.concat instead.\n",
      "  record_df = record_df.append(new_row, ignore_index=True)\n"
     ]
    },
    {
     "name": "stdout",
     "output_type": "stream",
     "text": [
      "(600, 400, 3)\n",
      "Inference Time: 0:00:00.195860\n",
      "277.3333333333333\n",
      "416.0\n",
      "042circle_2p5_1\n",
      "(600, 400, 3)\n"
     ]
    },
    {
     "name": "stderr",
     "output_type": "stream",
     "text": [
      "C:\\Users\\Mechano_2\\AppData\\Local\\Temp\\ipykernel_28832\\1081909300.py:47: FutureWarning: The frame.append method is deprecated and will be removed from pandas in a future version. Use pandas.concat instead.\n",
      "  record_df = record_df.append(new_row, ignore_index=True)\n",
      "C:\\Users\\Mechano_2\\AppData\\Local\\Temp\\ipykernel_28832\\1081909300.py:47: FutureWarning: The frame.append method is deprecated and will be removed from pandas in a future version. Use pandas.concat instead.\n",
      "  record_df = record_df.append(new_row, ignore_index=True)\n"
     ]
    },
    {
     "name": "stdout",
     "output_type": "stream",
     "text": [
      "Inference Time: 0:00:00.185587\n",
      "277.3333333333333\n",
      "416.0\n",
      "043circle_2p5_0\n",
      "(600, 400, 3)\n"
     ]
    },
    {
     "name": "stderr",
     "output_type": "stream",
     "text": [
      "C:\\Users\\Mechano_2\\AppData\\Local\\Temp\\ipykernel_28832\\1081909300.py:47: FutureWarning: The frame.append method is deprecated and will be removed from pandas in a future version. Use pandas.concat instead.\n",
      "  record_df = record_df.append(new_row, ignore_index=True)\n",
      "C:\\Users\\Mechano_2\\AppData\\Local\\Temp\\ipykernel_28832\\1081909300.py:47: FutureWarning: The frame.append method is deprecated and will be removed from pandas in a future version. Use pandas.concat instead.\n",
      "  record_df = record_df.append(new_row, ignore_index=True)\n"
     ]
    },
    {
     "name": "stdout",
     "output_type": "stream",
     "text": [
      "Inference Time: 0:00:00.253510\n",
      "277.3333333333333\n",
      "416.0\n",
      "043circle_2p5_1\n",
      "(600, 400, 3)\n",
      "Inference Time: 0:00:00.144918\n",
      "277.3333333333333\n",
      "416.0\n",
      "044circle_2p5_0\n"
     ]
    },
    {
     "name": "stderr",
     "output_type": "stream",
     "text": [
      "C:\\Users\\Mechano_2\\AppData\\Local\\Temp\\ipykernel_28832\\1081909300.py:47: FutureWarning: The frame.append method is deprecated and will be removed from pandas in a future version. Use pandas.concat instead.\n",
      "  record_df = record_df.append(new_row, ignore_index=True)\n",
      "C:\\Users\\Mechano_2\\AppData\\Local\\Temp\\ipykernel_28832\\1081909300.py:47: FutureWarning: The frame.append method is deprecated and will be removed from pandas in a future version. Use pandas.concat instead.\n",
      "  record_df = record_df.append(new_row, ignore_index=True)\n",
      "C:\\Users\\Mechano_2\\AppData\\Local\\Temp\\ipykernel_28832\\1081909300.py:47: FutureWarning: The frame.append method is deprecated and will be removed from pandas in a future version. Use pandas.concat instead.\n",
      "  record_df = record_df.append(new_row, ignore_index=True)\n",
      "C:\\Users\\Mechano_2\\AppData\\Local\\Temp\\ipykernel_28832\\1081909300.py:47: FutureWarning: The frame.append method is deprecated and will be removed from pandas in a future version. Use pandas.concat instead.\n",
      "  record_df = record_df.append(new_row, ignore_index=True)\n",
      "C:\\Users\\Mechano_2\\AppData\\Local\\Temp\\ipykernel_28832\\1081909300.py:47: FutureWarning: The frame.append method is deprecated and will be removed from pandas in a future version. Use pandas.concat instead.\n",
      "  record_df = record_df.append(new_row, ignore_index=True)\n"
     ]
    },
    {
     "name": "stdout",
     "output_type": "stream",
     "text": [
      "(600, 400, 3)\n",
      "Inference Time: 0:00:00.170286\n",
      "277.3333333333333\n",
      "416.0\n",
      "044circle_2p5_1\n",
      "(600, 400, 3)\n"
     ]
    },
    {
     "name": "stderr",
     "output_type": "stream",
     "text": [
      "C:\\Users\\Mechano_2\\AppData\\Local\\Temp\\ipykernel_28832\\1081909300.py:47: FutureWarning: The frame.append method is deprecated and will be removed from pandas in a future version. Use pandas.concat instead.\n",
      "  record_df = record_df.append(new_row, ignore_index=True)\n",
      "C:\\Users\\Mechano_2\\AppData\\Local\\Temp\\ipykernel_28832\\1081909300.py:47: FutureWarning: The frame.append method is deprecated and will be removed from pandas in a future version. Use pandas.concat instead.\n",
      "  record_df = record_df.append(new_row, ignore_index=True)\n",
      "C:\\Users\\Mechano_2\\AppData\\Local\\Temp\\ipykernel_28832\\1081909300.py:47: FutureWarning: The frame.append method is deprecated and will be removed from pandas in a future version. Use pandas.concat instead.\n",
      "  record_df = record_df.append(new_row, ignore_index=True)\n"
     ]
    },
    {
     "name": "stdout",
     "output_type": "stream",
     "text": [
      "Inference Time: 0:00:00.179133\n",
      "277.3333333333333\n",
      "416.0\n",
      "045circle_2p5_0\n",
      "(600, 400, 3)\n"
     ]
    },
    {
     "name": "stderr",
     "output_type": "stream",
     "text": [
      "C:\\Users\\Mechano_2\\AppData\\Local\\Temp\\ipykernel_28832\\1081909300.py:47: FutureWarning: The frame.append method is deprecated and will be removed from pandas in a future version. Use pandas.concat instead.\n",
      "  record_df = record_df.append(new_row, ignore_index=True)\n",
      "C:\\Users\\Mechano_2\\AppData\\Local\\Temp\\ipykernel_28832\\1081909300.py:47: FutureWarning: The frame.append method is deprecated and will be removed from pandas in a future version. Use pandas.concat instead.\n",
      "  record_df = record_df.append(new_row, ignore_index=True)\n",
      "C:\\Users\\Mechano_2\\AppData\\Local\\Temp\\ipykernel_28832\\1081909300.py:47: FutureWarning: The frame.append method is deprecated and will be removed from pandas in a future version. Use pandas.concat instead.\n",
      "  record_df = record_df.append(new_row, ignore_index=True)\n"
     ]
    },
    {
     "name": "stdout",
     "output_type": "stream",
     "text": [
      "Inference Time: 0:00:00.221473\n",
      "277.3333333333333\n",
      "416.0\n",
      "045circle_2p5_1\n",
      "(600, 400, 3)\n"
     ]
    },
    {
     "name": "stderr",
     "output_type": "stream",
     "text": [
      "C:\\Users\\Mechano_2\\AppData\\Local\\Temp\\ipykernel_28832\\1081909300.py:47: FutureWarning: The frame.append method is deprecated and will be removed from pandas in a future version. Use pandas.concat instead.\n",
      "  record_df = record_df.append(new_row, ignore_index=True)\n",
      "C:\\Users\\Mechano_2\\AppData\\Local\\Temp\\ipykernel_28832\\1081909300.py:47: FutureWarning: The frame.append method is deprecated and will be removed from pandas in a future version. Use pandas.concat instead.\n",
      "  record_df = record_df.append(new_row, ignore_index=True)\n",
      "C:\\Users\\Mechano_2\\AppData\\Local\\Temp\\ipykernel_28832\\1081909300.py:47: FutureWarning: The frame.append method is deprecated and will be removed from pandas in a future version. Use pandas.concat instead.\n",
      "  record_df = record_df.append(new_row, ignore_index=True)\n"
     ]
    },
    {
     "name": "stdout",
     "output_type": "stream",
     "text": [
      "Inference Time: 0:00:00.267599\n",
      "277.3333333333333\n",
      "416.0\n",
      "046circle_2p5_0\n",
      "(600, 400, 3)\n",
      "Inference Time: 0:00:00.149953\n",
      "277.3333333333333\n",
      "416.0\n",
      "046circle_2p5_1\n"
     ]
    },
    {
     "name": "stderr",
     "output_type": "stream",
     "text": [
      "C:\\Users\\Mechano_2\\AppData\\Local\\Temp\\ipykernel_28832\\1081909300.py:47: FutureWarning: The frame.append method is deprecated and will be removed from pandas in a future version. Use pandas.concat instead.\n",
      "  record_df = record_df.append(new_row, ignore_index=True)\n",
      "C:\\Users\\Mechano_2\\AppData\\Local\\Temp\\ipykernel_28832\\1081909300.py:47: FutureWarning: The frame.append method is deprecated and will be removed from pandas in a future version. Use pandas.concat instead.\n",
      "  record_df = record_df.append(new_row, ignore_index=True)\n",
      "C:\\Users\\Mechano_2\\AppData\\Local\\Temp\\ipykernel_28832\\1081909300.py:47: FutureWarning: The frame.append method is deprecated and will be removed from pandas in a future version. Use pandas.concat instead.\n",
      "  record_df = record_df.append(new_row, ignore_index=True)\n",
      "C:\\Users\\Mechano_2\\AppData\\Local\\Temp\\ipykernel_28832\\1081909300.py:47: FutureWarning: The frame.append method is deprecated and will be removed from pandas in a future version. Use pandas.concat instead.\n",
      "  record_df = record_df.append(new_row, ignore_index=True)\n",
      "C:\\Users\\Mechano_2\\AppData\\Local\\Temp\\ipykernel_28832\\1081909300.py:47: FutureWarning: The frame.append method is deprecated and will be removed from pandas in a future version. Use pandas.concat instead.\n",
      "  record_df = record_df.append(new_row, ignore_index=True)\n",
      "C:\\Users\\Mechano_2\\AppData\\Local\\Temp\\ipykernel_28832\\1081909300.py:47: FutureWarning: The frame.append method is deprecated and will be removed from pandas in a future version. Use pandas.concat instead.\n",
      "  record_df = record_df.append(new_row, ignore_index=True)\n"
     ]
    },
    {
     "name": "stdout",
     "output_type": "stream",
     "text": [
      "(600, 400, 3)\n",
      "Inference Time: 0:00:00.181772\n",
      "277.3333333333333\n",
      "416.0\n",
      "047circle_2p5_0\n"
     ]
    },
    {
     "name": "stderr",
     "output_type": "stream",
     "text": [
      "C:\\Users\\Mechano_2\\AppData\\Local\\Temp\\ipykernel_28832\\1081909300.py:47: FutureWarning: The frame.append method is deprecated and will be removed from pandas in a future version. Use pandas.concat instead.\n",
      "  record_df = record_df.append(new_row, ignore_index=True)\n",
      "C:\\Users\\Mechano_2\\AppData\\Local\\Temp\\ipykernel_28832\\1081909300.py:47: FutureWarning: The frame.append method is deprecated and will be removed from pandas in a future version. Use pandas.concat instead.\n",
      "  record_df = record_df.append(new_row, ignore_index=True)\n",
      "C:\\Users\\Mechano_2\\AppData\\Local\\Temp\\ipykernel_28832\\1081909300.py:47: FutureWarning: The frame.append method is deprecated and will be removed from pandas in a future version. Use pandas.concat instead.\n",
      "  record_df = record_df.append(new_row, ignore_index=True)\n"
     ]
    },
    {
     "name": "stdout",
     "output_type": "stream",
     "text": [
      "(600, 400, 3)\n",
      "Inference Time: 0:00:00.197937\n",
      "277.3333333333333\n",
      "416.0\n",
      "047circle_2p5_1\n"
     ]
    },
    {
     "name": "stderr",
     "output_type": "stream",
     "text": [
      "C:\\Users\\Mechano_2\\AppData\\Local\\Temp\\ipykernel_28832\\1081909300.py:47: FutureWarning: The frame.append method is deprecated and will be removed from pandas in a future version. Use pandas.concat instead.\n",
      "  record_df = record_df.append(new_row, ignore_index=True)\n",
      "C:\\Users\\Mechano_2\\AppData\\Local\\Temp\\ipykernel_28832\\1081909300.py:47: FutureWarning: The frame.append method is deprecated and will be removed from pandas in a future version. Use pandas.concat instead.\n",
      "  record_df = record_df.append(new_row, ignore_index=True)\n",
      "C:\\Users\\Mechano_2\\AppData\\Local\\Temp\\ipykernel_28832\\1081909300.py:47: FutureWarning: The frame.append method is deprecated and will be removed from pandas in a future version. Use pandas.concat instead.\n",
      "  record_df = record_df.append(new_row, ignore_index=True)\n"
     ]
    },
    {
     "name": "stdout",
     "output_type": "stream",
     "text": [
      "(600, 400, 3)\n",
      "Inference Time: 0:00:00.271434\n",
      "277.3333333333333\n",
      "416.0\n",
      "048circle_2p5_0\n",
      "(600, 400, 3)\n"
     ]
    },
    {
     "name": "stderr",
     "output_type": "stream",
     "text": [
      "C:\\Users\\Mechano_2\\AppData\\Local\\Temp\\ipykernel_28832\\1081909300.py:47: FutureWarning: The frame.append method is deprecated and will be removed from pandas in a future version. Use pandas.concat instead.\n",
      "  record_df = record_df.append(new_row, ignore_index=True)\n",
      "C:\\Users\\Mechano_2\\AppData\\Local\\Temp\\ipykernel_28832\\1081909300.py:47: FutureWarning: The frame.append method is deprecated and will be removed from pandas in a future version. Use pandas.concat instead.\n",
      "  record_df = record_df.append(new_row, ignore_index=True)\n",
      "C:\\Users\\Mechano_2\\AppData\\Local\\Temp\\ipykernel_28832\\1081909300.py:47: FutureWarning: The frame.append method is deprecated and will be removed from pandas in a future version. Use pandas.concat instead.\n",
      "  record_df = record_df.append(new_row, ignore_index=True)\n",
      "C:\\Users\\Mechano_2\\AppData\\Local\\Temp\\ipykernel_28832\\1081909300.py:47: FutureWarning: The frame.append method is deprecated and will be removed from pandas in a future version. Use pandas.concat instead.\n",
      "  record_df = record_df.append(new_row, ignore_index=True)\n",
      "C:\\Users\\Mechano_2\\AppData\\Local\\Temp\\ipykernel_28832\\1081909300.py:47: FutureWarning: The frame.append method is deprecated and will be removed from pandas in a future version. Use pandas.concat instead.\n",
      "  record_df = record_df.append(new_row, ignore_index=True)\n"
     ]
    },
    {
     "name": "stdout",
     "output_type": "stream",
     "text": [
      "Inference Time: 0:00:00.148952\n",
      "277.3333333333333\n",
      "416.0\n",
      "048circle_2p5_1\n",
      "(600, 400, 3)\n",
      "Inference Time: 0:00:00.191954\n",
      "277.3333333333333\n",
      "416.0\n"
     ]
    },
    {
     "name": "stderr",
     "output_type": "stream",
     "text": [
      "C:\\Users\\Mechano_2\\AppData\\Local\\Temp\\ipykernel_28832\\1081909300.py:47: FutureWarning: The frame.append method is deprecated and will be removed from pandas in a future version. Use pandas.concat instead.\n",
      "  record_df = record_df.append(new_row, ignore_index=True)\n",
      "C:\\Users\\Mechano_2\\AppData\\Local\\Temp\\ipykernel_28832\\1081909300.py:47: FutureWarning: The frame.append method is deprecated and will be removed from pandas in a future version. Use pandas.concat instead.\n",
      "  record_df = record_df.append(new_row, ignore_index=True)\n",
      "C:\\Users\\Mechano_2\\AppData\\Local\\Temp\\ipykernel_28832\\1081909300.py:47: FutureWarning: The frame.append method is deprecated and will be removed from pandas in a future version. Use pandas.concat instead.\n",
      "  record_df = record_df.append(new_row, ignore_index=True)\n"
     ]
    },
    {
     "name": "stdout",
     "output_type": "stream",
     "text": [
      "049circle_2p5_0\n",
      "(600, 400, 3)\n",
      "Inference Time: 0:00:00.200378\n",
      "277.3333333333333\n",
      "416.0\n",
      "049circle_2p5_1\n",
      "(600, 400, 3)\n"
     ]
    },
    {
     "name": "stderr",
     "output_type": "stream",
     "text": [
      "C:\\Users\\Mechano_2\\AppData\\Local\\Temp\\ipykernel_28832\\1081909300.py:47: FutureWarning: The frame.append method is deprecated and will be removed from pandas in a future version. Use pandas.concat instead.\n",
      "  record_df = record_df.append(new_row, ignore_index=True)\n",
      "C:\\Users\\Mechano_2\\AppData\\Local\\Temp\\ipykernel_28832\\1081909300.py:47: FutureWarning: The frame.append method is deprecated and will be removed from pandas in a future version. Use pandas.concat instead.\n",
      "  record_df = record_df.append(new_row, ignore_index=True)\n",
      "C:\\Users\\Mechano_2\\AppData\\Local\\Temp\\ipykernel_28832\\1081909300.py:47: FutureWarning: The frame.append method is deprecated and will be removed from pandas in a future version. Use pandas.concat instead.\n",
      "  record_df = record_df.append(new_row, ignore_index=True)\n"
     ]
    },
    {
     "name": "stdout",
     "output_type": "stream",
     "text": [
      "Inference Time: 0:00:00.220222\n",
      "277.3333333333333\n",
      "416.0\n",
      "050circle_2p5_0\n",
      "(600, 400, 3)\n",
      "Inference Time: 0:00:00.188700\n",
      "277.3333333333333\n",
      "416.0\n"
     ]
    },
    {
     "name": "stderr",
     "output_type": "stream",
     "text": [
      "C:\\Users\\Mechano_2\\AppData\\Local\\Temp\\ipykernel_28832\\1081909300.py:47: FutureWarning: The frame.append method is deprecated and will be removed from pandas in a future version. Use pandas.concat instead.\n",
      "  record_df = record_df.append(new_row, ignore_index=True)\n",
      "C:\\Users\\Mechano_2\\AppData\\Local\\Temp\\ipykernel_28832\\1081909300.py:47: FutureWarning: The frame.append method is deprecated and will be removed from pandas in a future version. Use pandas.concat instead.\n",
      "  record_df = record_df.append(new_row, ignore_index=True)\n",
      "C:\\Users\\Mechano_2\\AppData\\Local\\Temp\\ipykernel_28832\\1081909300.py:47: FutureWarning: The frame.append method is deprecated and will be removed from pandas in a future version. Use pandas.concat instead.\n",
      "  record_df = record_df.append(new_row, ignore_index=True)\n",
      "C:\\Users\\Mechano_2\\AppData\\Local\\Temp\\ipykernel_28832\\1081909300.py:47: FutureWarning: The frame.append method is deprecated and will be removed from pandas in a future version. Use pandas.concat instead.\n",
      "  record_df = record_df.append(new_row, ignore_index=True)\n",
      "C:\\Users\\Mechano_2\\AppData\\Local\\Temp\\ipykernel_28832\\1081909300.py:47: FutureWarning: The frame.append method is deprecated and will be removed from pandas in a future version. Use pandas.concat instead.\n",
      "  record_df = record_df.append(new_row, ignore_index=True)\n",
      "C:\\Users\\Mechano_2\\AppData\\Local\\Temp\\ipykernel_28832\\1081909300.py:47: FutureWarning: The frame.append method is deprecated and will be removed from pandas in a future version. Use pandas.concat instead.\n",
      "  record_df = record_df.append(new_row, ignore_index=True)\n"
     ]
    },
    {
     "name": "stdout",
     "output_type": "stream",
     "text": [
      "050circle_2p5_1\n",
      "(600, 400, 3)\n",
      "Inference Time: 0:00:00.289465\n",
      "277.3333333333333\n",
      "416.0\n",
      "051circle_2p5_0\n",
      "(600, 400, 3)\n",
      "Inference Time: 0:00:00.145877\n",
      "277.3333333333333\n",
      "416.0\n",
      "051circle_2p5_1\n"
     ]
    },
    {
     "name": "stderr",
     "output_type": "stream",
     "text": [
      "C:\\Users\\Mechano_2\\AppData\\Local\\Temp\\ipykernel_28832\\1081909300.py:47: FutureWarning: The frame.append method is deprecated and will be removed from pandas in a future version. Use pandas.concat instead.\n",
      "  record_df = record_df.append(new_row, ignore_index=True)\n",
      "C:\\Users\\Mechano_2\\AppData\\Local\\Temp\\ipykernel_28832\\1081909300.py:47: FutureWarning: The frame.append method is deprecated and will be removed from pandas in a future version. Use pandas.concat instead.\n",
      "  record_df = record_df.append(new_row, ignore_index=True)\n",
      "C:\\Users\\Mechano_2\\AppData\\Local\\Temp\\ipykernel_28832\\1081909300.py:47: FutureWarning: The frame.append method is deprecated and will be removed from pandas in a future version. Use pandas.concat instead.\n",
      "  record_df = record_df.append(new_row, ignore_index=True)\n",
      "C:\\Users\\Mechano_2\\AppData\\Local\\Temp\\ipykernel_28832\\1081909300.py:47: FutureWarning: The frame.append method is deprecated and will be removed from pandas in a future version. Use pandas.concat instead.\n",
      "  record_df = record_df.append(new_row, ignore_index=True)\n",
      "C:\\Users\\Mechano_2\\AppData\\Local\\Temp\\ipykernel_28832\\1081909300.py:47: FutureWarning: The frame.append method is deprecated and will be removed from pandas in a future version. Use pandas.concat instead.\n",
      "  record_df = record_df.append(new_row, ignore_index=True)\n",
      "C:\\Users\\Mechano_2\\AppData\\Local\\Temp\\ipykernel_28832\\1081909300.py:47: FutureWarning: The frame.append method is deprecated and will be removed from pandas in a future version. Use pandas.concat instead.\n",
      "  record_df = record_df.append(new_row, ignore_index=True)\n"
     ]
    },
    {
     "name": "stdout",
     "output_type": "stream",
     "text": [
      "(600, 400, 3)\n",
      "Inference Time: 0:00:00.174596\n",
      "277.3333333333333\n",
      "416.0\n",
      "052circle_2p5_0\n"
     ]
    },
    {
     "name": "stderr",
     "output_type": "stream",
     "text": [
      "C:\\Users\\Mechano_2\\AppData\\Local\\Temp\\ipykernel_28832\\1081909300.py:47: FutureWarning: The frame.append method is deprecated and will be removed from pandas in a future version. Use pandas.concat instead.\n",
      "  record_df = record_df.append(new_row, ignore_index=True)\n",
      "C:\\Users\\Mechano_2\\AppData\\Local\\Temp\\ipykernel_28832\\1081909300.py:47: FutureWarning: The frame.append method is deprecated and will be removed from pandas in a future version. Use pandas.concat instead.\n",
      "  record_df = record_df.append(new_row, ignore_index=True)\n",
      "C:\\Users\\Mechano_2\\AppData\\Local\\Temp\\ipykernel_28832\\1081909300.py:47: FutureWarning: The frame.append method is deprecated and will be removed from pandas in a future version. Use pandas.concat instead.\n",
      "  record_df = record_df.append(new_row, ignore_index=True)\n"
     ]
    },
    {
     "name": "stdout",
     "output_type": "stream",
     "text": [
      "(600, 400, 3)\n",
      "Inference Time: 0:00:00.211101\n",
      "277.3333333333333\n",
      "416.0\n",
      "052circle_2p5_1\n"
     ]
    },
    {
     "name": "stderr",
     "output_type": "stream",
     "text": [
      "C:\\Users\\Mechano_2\\AppData\\Local\\Temp\\ipykernel_28832\\1081909300.py:47: FutureWarning: The frame.append method is deprecated and will be removed from pandas in a future version. Use pandas.concat instead.\n",
      "  record_df = record_df.append(new_row, ignore_index=True)\n",
      "C:\\Users\\Mechano_2\\AppData\\Local\\Temp\\ipykernel_28832\\1081909300.py:47: FutureWarning: The frame.append method is deprecated and will be removed from pandas in a future version. Use pandas.concat instead.\n",
      "  record_df = record_df.append(new_row, ignore_index=True)\n",
      "C:\\Users\\Mechano_2\\AppData\\Local\\Temp\\ipykernel_28832\\1081909300.py:47: FutureWarning: The frame.append method is deprecated and will be removed from pandas in a future version. Use pandas.concat instead.\n",
      "  record_df = record_df.append(new_row, ignore_index=True)\n"
     ]
    },
    {
     "name": "stdout",
     "output_type": "stream",
     "text": [
      "(600, 400, 3)\n",
      "Inference Time: 0:00:00.221288\n",
      "277.3333333333333\n",
      "416.0\n",
      "053circle_2p5_0\n"
     ]
    },
    {
     "name": "stderr",
     "output_type": "stream",
     "text": [
      "C:\\Users\\Mechano_2\\AppData\\Local\\Temp\\ipykernel_28832\\1081909300.py:47: FutureWarning: The frame.append method is deprecated and will be removed from pandas in a future version. Use pandas.concat instead.\n",
      "  record_df = record_df.append(new_row, ignore_index=True)\n",
      "C:\\Users\\Mechano_2\\AppData\\Local\\Temp\\ipykernel_28832\\1081909300.py:47: FutureWarning: The frame.append method is deprecated and will be removed from pandas in a future version. Use pandas.concat instead.\n",
      "  record_df = record_df.append(new_row, ignore_index=True)\n",
      "C:\\Users\\Mechano_2\\AppData\\Local\\Temp\\ipykernel_28832\\1081909300.py:47: FutureWarning: The frame.append method is deprecated and will be removed from pandas in a future version. Use pandas.concat instead.\n",
      "  record_df = record_df.append(new_row, ignore_index=True)\n"
     ]
    },
    {
     "name": "stdout",
     "output_type": "stream",
     "text": [
      "(600, 400, 3)\n",
      "Inference Time: 0:00:00.272902\n",
      "277.3333333333333\n",
      "416.0\n",
      "053circle_2p5_1\n",
      "(600, 400, 3)\n"
     ]
    },
    {
     "name": "stderr",
     "output_type": "stream",
     "text": [
      "C:\\Users\\Mechano_2\\AppData\\Local\\Temp\\ipykernel_28832\\1081909300.py:47: FutureWarning: The frame.append method is deprecated and will be removed from pandas in a future version. Use pandas.concat instead.\n",
      "  record_df = record_df.append(new_row, ignore_index=True)\n",
      "C:\\Users\\Mechano_2\\AppData\\Local\\Temp\\ipykernel_28832\\1081909300.py:47: FutureWarning: The frame.append method is deprecated and will be removed from pandas in a future version. Use pandas.concat instead.\n",
      "  record_df = record_df.append(new_row, ignore_index=True)\n",
      "C:\\Users\\Mechano_2\\AppData\\Local\\Temp\\ipykernel_28832\\1081909300.py:47: FutureWarning: The frame.append method is deprecated and will be removed from pandas in a future version. Use pandas.concat instead.\n",
      "  record_df = record_df.append(new_row, ignore_index=True)\n",
      "C:\\Users\\Mechano_2\\AppData\\Local\\Temp\\ipykernel_28832\\1081909300.py:47: FutureWarning: The frame.append method is deprecated and will be removed from pandas in a future version. Use pandas.concat instead.\n",
      "  record_df = record_df.append(new_row, ignore_index=True)\n",
      "C:\\Users\\Mechano_2\\AppData\\Local\\Temp\\ipykernel_28832\\1081909300.py:47: FutureWarning: The frame.append method is deprecated and will be removed from pandas in a future version. Use pandas.concat instead.\n",
      "  record_df = record_df.append(new_row, ignore_index=True)\n",
      "C:\\Users\\Mechano_2\\AppData\\Local\\Temp\\ipykernel_28832\\1081909300.py:47: FutureWarning: The frame.append method is deprecated and will be removed from pandas in a future version. Use pandas.concat instead.\n",
      "  record_df = record_df.append(new_row, ignore_index=True)\n"
     ]
    },
    {
     "name": "stdout",
     "output_type": "stream",
     "text": [
      "Inference Time: 0:00:00.147953\n",
      "277.3333333333333\n",
      "416.0\n",
      "054circle_2p5_0\n",
      "(600, 400, 3)\n",
      "Inference Time: 0:00:00.211703\n",
      "277.3333333333333\n",
      "416.0\n",
      "054circle_2p5_1\n",
      "(600, 400, 3)\n",
      "Inference Time: 0:00:00.192157\n"
     ]
    },
    {
     "name": "stderr",
     "output_type": "stream",
     "text": [
      "C:\\Users\\Mechano_2\\AppData\\Local\\Temp\\ipykernel_28832\\1081909300.py:47: FutureWarning: The frame.append method is deprecated and will be removed from pandas in a future version. Use pandas.concat instead.\n",
      "  record_df = record_df.append(new_row, ignore_index=True)\n",
      "C:\\Users\\Mechano_2\\AppData\\Local\\Temp\\ipykernel_28832\\1081909300.py:47: FutureWarning: The frame.append method is deprecated and will be removed from pandas in a future version. Use pandas.concat instead.\n",
      "  record_df = record_df.append(new_row, ignore_index=True)\n",
      "C:\\Users\\Mechano_2\\AppData\\Local\\Temp\\ipykernel_28832\\1081909300.py:47: FutureWarning: The frame.append method is deprecated and will be removed from pandas in a future version. Use pandas.concat instead.\n",
      "  record_df = record_df.append(new_row, ignore_index=True)\n"
     ]
    },
    {
     "name": "stdout",
     "output_type": "stream",
     "text": [
      "277.3333333333333\n",
      "416.0\n",
      "055circle_2p5_0\n",
      "(600, 400, 3)\n",
      "Inference Time: 0:00:00.192142\n"
     ]
    },
    {
     "name": "stderr",
     "output_type": "stream",
     "text": [
      "C:\\Users\\Mechano_2\\AppData\\Local\\Temp\\ipykernel_28832\\1081909300.py:47: FutureWarning: The frame.append method is deprecated and will be removed from pandas in a future version. Use pandas.concat instead.\n",
      "  record_df = record_df.append(new_row, ignore_index=True)\n",
      "C:\\Users\\Mechano_2\\AppData\\Local\\Temp\\ipykernel_28832\\1081909300.py:47: FutureWarning: The frame.append method is deprecated and will be removed from pandas in a future version. Use pandas.concat instead.\n",
      "  record_df = record_df.append(new_row, ignore_index=True)\n",
      "C:\\Users\\Mechano_2\\AppData\\Local\\Temp\\ipykernel_28832\\1081909300.py:47: FutureWarning: The frame.append method is deprecated and will be removed from pandas in a future version. Use pandas.concat instead.\n",
      "  record_df = record_df.append(new_row, ignore_index=True)\n"
     ]
    },
    {
     "name": "stdout",
     "output_type": "stream",
     "text": [
      "277.3333333333333\n",
      "416.0\n",
      "055circle_2p5_1\n",
      "(600, 400, 3)\n"
     ]
    },
    {
     "name": "stderr",
     "output_type": "stream",
     "text": [
      "C:\\Users\\Mechano_2\\AppData\\Local\\Temp\\ipykernel_28832\\1081909300.py:47: FutureWarning: The frame.append method is deprecated and will be removed from pandas in a future version. Use pandas.concat instead.\n",
      "  record_df = record_df.append(new_row, ignore_index=True)\n",
      "C:\\Users\\Mechano_2\\AppData\\Local\\Temp\\ipykernel_28832\\1081909300.py:47: FutureWarning: The frame.append method is deprecated and will be removed from pandas in a future version. Use pandas.concat instead.\n",
      "  record_df = record_df.append(new_row, ignore_index=True)\n",
      "C:\\Users\\Mechano_2\\AppData\\Local\\Temp\\ipykernel_28832\\1081909300.py:47: FutureWarning: The frame.append method is deprecated and will be removed from pandas in a future version. Use pandas.concat instead.\n",
      "  record_df = record_df.append(new_row, ignore_index=True)\n"
     ]
    },
    {
     "name": "stdout",
     "output_type": "stream",
     "text": [
      "Inference Time: 0:00:00.280003\n",
      "277.3333333333333\n",
      "416.0\n",
      "056circle_2p5_0\n",
      "(600, 400, 3)\n",
      "Inference Time: 0:00:00.146953\n",
      "277.3333333333333\n",
      "416.0\n",
      "056circle_2p5_1\n"
     ]
    },
    {
     "name": "stderr",
     "output_type": "stream",
     "text": [
      "C:\\Users\\Mechano_2\\AppData\\Local\\Temp\\ipykernel_28832\\1081909300.py:47: FutureWarning: The frame.append method is deprecated and will be removed from pandas in a future version. Use pandas.concat instead.\n",
      "  record_df = record_df.append(new_row, ignore_index=True)\n",
      "C:\\Users\\Mechano_2\\AppData\\Local\\Temp\\ipykernel_28832\\1081909300.py:47: FutureWarning: The frame.append method is deprecated and will be removed from pandas in a future version. Use pandas.concat instead.\n",
      "  record_df = record_df.append(new_row, ignore_index=True)\n",
      "C:\\Users\\Mechano_2\\AppData\\Local\\Temp\\ipykernel_28832\\1081909300.py:47: FutureWarning: The frame.append method is deprecated and will be removed from pandas in a future version. Use pandas.concat instead.\n",
      "  record_df = record_df.append(new_row, ignore_index=True)\n",
      "C:\\Users\\Mechano_2\\AppData\\Local\\Temp\\ipykernel_28832\\1081909300.py:47: FutureWarning: The frame.append method is deprecated and will be removed from pandas in a future version. Use pandas.concat instead.\n",
      "  record_df = record_df.append(new_row, ignore_index=True)\n",
      "C:\\Users\\Mechano_2\\AppData\\Local\\Temp\\ipykernel_28832\\1081909300.py:47: FutureWarning: The frame.append method is deprecated and will be removed from pandas in a future version. Use pandas.concat instead.\n",
      "  record_df = record_df.append(new_row, ignore_index=True)\n",
      "C:\\Users\\Mechano_2\\AppData\\Local\\Temp\\ipykernel_28832\\1081909300.py:47: FutureWarning: The frame.append method is deprecated and will be removed from pandas in a future version. Use pandas.concat instead.\n",
      "  record_df = record_df.append(new_row, ignore_index=True)\n"
     ]
    },
    {
     "name": "stdout",
     "output_type": "stream",
     "text": [
      "(600, 400, 3)\n",
      "Inference Time: 0:00:00.207959\n",
      "277.3333333333333\n",
      "416.0\n",
      "057circle_2p5_0\n",
      "(600, 400, 3)\n"
     ]
    },
    {
     "name": "stderr",
     "output_type": "stream",
     "text": [
      "C:\\Users\\Mechano_2\\AppData\\Local\\Temp\\ipykernel_28832\\1081909300.py:47: FutureWarning: The frame.append method is deprecated and will be removed from pandas in a future version. Use pandas.concat instead.\n",
      "  record_df = record_df.append(new_row, ignore_index=True)\n",
      "C:\\Users\\Mechano_2\\AppData\\Local\\Temp\\ipykernel_28832\\1081909300.py:47: FutureWarning: The frame.append method is deprecated and will be removed from pandas in a future version. Use pandas.concat instead.\n",
      "  record_df = record_df.append(new_row, ignore_index=True)\n",
      "C:\\Users\\Mechano_2\\AppData\\Local\\Temp\\ipykernel_28832\\1081909300.py:47: FutureWarning: The frame.append method is deprecated and will be removed from pandas in a future version. Use pandas.concat instead.\n",
      "  record_df = record_df.append(new_row, ignore_index=True)\n"
     ]
    },
    {
     "name": "stdout",
     "output_type": "stream",
     "text": [
      "Inference Time: 0:00:00.189014\n",
      "277.3333333333333\n",
      "416.0\n",
      "057circle_2p5_1\n",
      "(600, 400, 3)\n"
     ]
    },
    {
     "name": "stderr",
     "output_type": "stream",
     "text": [
      "C:\\Users\\Mechano_2\\AppData\\Local\\Temp\\ipykernel_28832\\1081909300.py:47: FutureWarning: The frame.append method is deprecated and will be removed from pandas in a future version. Use pandas.concat instead.\n",
      "  record_df = record_df.append(new_row, ignore_index=True)\n",
      "C:\\Users\\Mechano_2\\AppData\\Local\\Temp\\ipykernel_28832\\1081909300.py:47: FutureWarning: The frame.append method is deprecated and will be removed from pandas in a future version. Use pandas.concat instead.\n",
      "  record_df = record_df.append(new_row, ignore_index=True)\n",
      "C:\\Users\\Mechano_2\\AppData\\Local\\Temp\\ipykernel_28832\\1081909300.py:47: FutureWarning: The frame.append method is deprecated and will be removed from pandas in a future version. Use pandas.concat instead.\n",
      "  record_df = record_df.append(new_row, ignore_index=True)\n"
     ]
    },
    {
     "name": "stdout",
     "output_type": "stream",
     "text": [
      "Inference Time: 0:00:00.288958\n",
      "277.3333333333333\n",
      "416.0\n",
      "058circle_2p5_0\n",
      "(600, 400, 3)\n",
      "Inference Time: 0:00:00.147953\n",
      "277.3333333333333\n",
      "416.0\n",
      "058circle_2p5_1\n"
     ]
    },
    {
     "name": "stderr",
     "output_type": "stream",
     "text": [
      "C:\\Users\\Mechano_2\\AppData\\Local\\Temp\\ipykernel_28832\\1081909300.py:47: FutureWarning: The frame.append method is deprecated and will be removed from pandas in a future version. Use pandas.concat instead.\n",
      "  record_df = record_df.append(new_row, ignore_index=True)\n",
      "C:\\Users\\Mechano_2\\AppData\\Local\\Temp\\ipykernel_28832\\1081909300.py:47: FutureWarning: The frame.append method is deprecated and will be removed from pandas in a future version. Use pandas.concat instead.\n",
      "  record_df = record_df.append(new_row, ignore_index=True)\n",
      "C:\\Users\\Mechano_2\\AppData\\Local\\Temp\\ipykernel_28832\\1081909300.py:47: FutureWarning: The frame.append method is deprecated and will be removed from pandas in a future version. Use pandas.concat instead.\n",
      "  record_df = record_df.append(new_row, ignore_index=True)\n",
      "C:\\Users\\Mechano_2\\AppData\\Local\\Temp\\ipykernel_28832\\1081909300.py:47: FutureWarning: The frame.append method is deprecated and will be removed from pandas in a future version. Use pandas.concat instead.\n",
      "  record_df = record_df.append(new_row, ignore_index=True)\n",
      "C:\\Users\\Mechano_2\\AppData\\Local\\Temp\\ipykernel_28832\\1081909300.py:47: FutureWarning: The frame.append method is deprecated and will be removed from pandas in a future version. Use pandas.concat instead.\n",
      "  record_df = record_df.append(new_row, ignore_index=True)\n"
     ]
    },
    {
     "name": "stdout",
     "output_type": "stream",
     "text": [
      "(600, 400, 3)\n",
      "Inference Time: 0:00:00.183466\n",
      "277.3333333333333\n",
      "416.0\n",
      "059circle_2p5_0\n"
     ]
    },
    {
     "name": "stderr",
     "output_type": "stream",
     "text": [
      "C:\\Users\\Mechano_2\\AppData\\Local\\Temp\\ipykernel_28832\\1081909300.py:47: FutureWarning: The frame.append method is deprecated and will be removed from pandas in a future version. Use pandas.concat instead.\n",
      "  record_df = record_df.append(new_row, ignore_index=True)\n",
      "C:\\Users\\Mechano_2\\AppData\\Local\\Temp\\ipykernel_28832\\1081909300.py:47: FutureWarning: The frame.append method is deprecated and will be removed from pandas in a future version. Use pandas.concat instead.\n",
      "  record_df = record_df.append(new_row, ignore_index=True)\n"
     ]
    },
    {
     "name": "stdout",
     "output_type": "stream",
     "text": [
      "(600, 400, 3)\n",
      "Inference Time: 0:00:00.197399\n",
      "277.3333333333333\n",
      "416.0\n",
      "059circle_2p5_1\n",
      "(600, 400, 3)\n"
     ]
    },
    {
     "name": "stderr",
     "output_type": "stream",
     "text": [
      "C:\\Users\\Mechano_2\\AppData\\Local\\Temp\\ipykernel_28832\\1081909300.py:47: FutureWarning: The frame.append method is deprecated and will be removed from pandas in a future version. Use pandas.concat instead.\n",
      "  record_df = record_df.append(new_row, ignore_index=True)\n",
      "C:\\Users\\Mechano_2\\AppData\\Local\\Temp\\ipykernel_28832\\1081909300.py:47: FutureWarning: The frame.append method is deprecated and will be removed from pandas in a future version. Use pandas.concat instead.\n",
      "  record_df = record_df.append(new_row, ignore_index=True)\n"
     ]
    },
    {
     "name": "stdout",
     "output_type": "stream",
     "text": [
      "Inference Time: 0:00:00.194204\n",
      "277.3333333333333\n",
      "416.0\n",
      "060circle_2p5_0\n",
      "(600, 400, 3)\n"
     ]
    },
    {
     "name": "stderr",
     "output_type": "stream",
     "text": [
      "C:\\Users\\Mechano_2\\AppData\\Local\\Temp\\ipykernel_28832\\1081909300.py:47: FutureWarning: The frame.append method is deprecated and will be removed from pandas in a future version. Use pandas.concat instead.\n",
      "  record_df = record_df.append(new_row, ignore_index=True)\n",
      "C:\\Users\\Mechano_2\\AppData\\Local\\Temp\\ipykernel_28832\\1081909300.py:47: FutureWarning: The frame.append method is deprecated and will be removed from pandas in a future version. Use pandas.concat instead.\n",
      "  record_df = record_df.append(new_row, ignore_index=True)\n"
     ]
    },
    {
     "name": "stdout",
     "output_type": "stream",
     "text": [
      "Inference Time: 0:00:00.227285\n",
      "277.3333333333333\n",
      "416.0\n",
      "060circle_2p5_1\n",
      "(600, 400, 3)\n"
     ]
    },
    {
     "name": "stderr",
     "output_type": "stream",
     "text": [
      "C:\\Users\\Mechano_2\\AppData\\Local\\Temp\\ipykernel_28832\\1081909300.py:47: FutureWarning: The frame.append method is deprecated and will be removed from pandas in a future version. Use pandas.concat instead.\n",
      "  record_df = record_df.append(new_row, ignore_index=True)\n",
      "C:\\Users\\Mechano_2\\AppData\\Local\\Temp\\ipykernel_28832\\1081909300.py:47: FutureWarning: The frame.append method is deprecated and will be removed from pandas in a future version. Use pandas.concat instead.\n",
      "  record_df = record_df.append(new_row, ignore_index=True)\n"
     ]
    },
    {
     "name": "stdout",
     "output_type": "stream",
     "text": [
      "Inference Time: 0:00:00.278318\n",
      "277.3333333333333\n",
      "416.0\n",
      "061circle_2p5_0\n",
      "(600, 400, 3)\n",
      "Inference Time: 0:00:00.145956\n",
      "277.3333333333333\n",
      "416.0\n",
      "061circle_2p5_1\n"
     ]
    },
    {
     "name": "stderr",
     "output_type": "stream",
     "text": [
      "C:\\Users\\Mechano_2\\AppData\\Local\\Temp\\ipykernel_28832\\1081909300.py:47: FutureWarning: The frame.append method is deprecated and will be removed from pandas in a future version. Use pandas.concat instead.\n",
      "  record_df = record_df.append(new_row, ignore_index=True)\n",
      "C:\\Users\\Mechano_2\\AppData\\Local\\Temp\\ipykernel_28832\\1081909300.py:47: FutureWarning: The frame.append method is deprecated and will be removed from pandas in a future version. Use pandas.concat instead.\n",
      "  record_df = record_df.append(new_row, ignore_index=True)\n",
      "C:\\Users\\Mechano_2\\AppData\\Local\\Temp\\ipykernel_28832\\1081909300.py:47: FutureWarning: The frame.append method is deprecated and will be removed from pandas in a future version. Use pandas.concat instead.\n",
      "  record_df = record_df.append(new_row, ignore_index=True)\n",
      "C:\\Users\\Mechano_2\\AppData\\Local\\Temp\\ipykernel_28832\\1081909300.py:47: FutureWarning: The frame.append method is deprecated and will be removed from pandas in a future version. Use pandas.concat instead.\n",
      "  record_df = record_df.append(new_row, ignore_index=True)\n"
     ]
    },
    {
     "name": "stdout",
     "output_type": "stream",
     "text": [
      "(600, 400, 3)\n",
      "Inference Time: 0:00:00.189940\n",
      "277.3333333333333\n",
      "416.0\n",
      "062circle_2p5_0\n"
     ]
    },
    {
     "name": "stderr",
     "output_type": "stream",
     "text": [
      "C:\\Users\\Mechano_2\\AppData\\Local\\Temp\\ipykernel_28832\\1081909300.py:47: FutureWarning: The frame.append method is deprecated and will be removed from pandas in a future version. Use pandas.concat instead.\n",
      "  record_df = record_df.append(new_row, ignore_index=True)\n",
      "C:\\Users\\Mechano_2\\AppData\\Local\\Temp\\ipykernel_28832\\1081909300.py:47: FutureWarning: The frame.append method is deprecated and will be removed from pandas in a future version. Use pandas.concat instead.\n",
      "  record_df = record_df.append(new_row, ignore_index=True)\n"
     ]
    },
    {
     "name": "stdout",
     "output_type": "stream",
     "text": [
      "(600, 400, 3)\n",
      "Inference Time: 0:00:00.200373\n",
      "277.3333333333333\n",
      "416.0\n",
      "062circle_2p5_1\n"
     ]
    },
    {
     "name": "stderr",
     "output_type": "stream",
     "text": [
      "C:\\Users\\Mechano_2\\AppData\\Local\\Temp\\ipykernel_28832\\1081909300.py:47: FutureWarning: The frame.append method is deprecated and will be removed from pandas in a future version. Use pandas.concat instead.\n",
      "  record_df = record_df.append(new_row, ignore_index=True)\n",
      "C:\\Users\\Mechano_2\\AppData\\Local\\Temp\\ipykernel_28832\\1081909300.py:47: FutureWarning: The frame.append method is deprecated and will be removed from pandas in a future version. Use pandas.concat instead.\n",
      "  record_df = record_df.append(new_row, ignore_index=True)\n"
     ]
    },
    {
     "name": "stdout",
     "output_type": "stream",
     "text": [
      "(600, 400, 3)\n",
      "Inference Time: 0:00:00.203674\n",
      "277.3333333333333\n",
      "416.0\n",
      "063circle_2p5_0\n"
     ]
    },
    {
     "name": "stderr",
     "output_type": "stream",
     "text": [
      "C:\\Users\\Mechano_2\\AppData\\Local\\Temp\\ipykernel_28832\\1081909300.py:47: FutureWarning: The frame.append method is deprecated and will be removed from pandas in a future version. Use pandas.concat instead.\n",
      "  record_df = record_df.append(new_row, ignore_index=True)\n",
      "C:\\Users\\Mechano_2\\AppData\\Local\\Temp\\ipykernel_28832\\1081909300.py:47: FutureWarning: The frame.append method is deprecated and will be removed from pandas in a future version. Use pandas.concat instead.\n",
      "  record_df = record_df.append(new_row, ignore_index=True)\n"
     ]
    },
    {
     "name": "stdout",
     "output_type": "stream",
     "text": [
      "(600, 400, 3)\n",
      "Inference Time: 0:00:00.205791\n",
      "277.3333333333333\n",
      "416.0\n",
      "063circle_2p5_1\n"
     ]
    },
    {
     "name": "stderr",
     "output_type": "stream",
     "text": [
      "C:\\Users\\Mechano_2\\AppData\\Local\\Temp\\ipykernel_28832\\1081909300.py:47: FutureWarning: The frame.append method is deprecated and will be removed from pandas in a future version. Use pandas.concat instead.\n",
      "  record_df = record_df.append(new_row, ignore_index=True)\n",
      "C:\\Users\\Mechano_2\\AppData\\Local\\Temp\\ipykernel_28832\\1081909300.py:47: FutureWarning: The frame.append method is deprecated and will be removed from pandas in a future version. Use pandas.concat instead.\n",
      "  record_df = record_df.append(new_row, ignore_index=True)\n"
     ]
    },
    {
     "name": "stdout",
     "output_type": "stream",
     "text": [
      "(600, 400, 3)\n",
      "Inference Time: 0:00:00.190922\n",
      "277.3333333333333\n",
      "416.0\n",
      "064circle_2p5_0\n",
      "(600, 400, 3)\n",
      "Inference Time: 0:00:00.297459\n",
      "277.3333333333333\n",
      "416.0\n",
      "064circle_2p5_1\n",
      "(600, 400, 3)\n"
     ]
    },
    {
     "name": "stderr",
     "output_type": "stream",
     "text": [
      "C:\\Users\\Mechano_2\\AppData\\Local\\Temp\\ipykernel_28832\\1081909300.py:47: FutureWarning: The frame.append method is deprecated and will be removed from pandas in a future version. Use pandas.concat instead.\n",
      "  record_df = record_df.append(new_row, ignore_index=True)\n",
      "C:\\Users\\Mechano_2\\AppData\\Local\\Temp\\ipykernel_28832\\1081909300.py:47: FutureWarning: The frame.append method is deprecated and will be removed from pandas in a future version. Use pandas.concat instead.\n",
      "  record_df = record_df.append(new_row, ignore_index=True)\n",
      "C:\\Users\\Mechano_2\\AppData\\Local\\Temp\\ipykernel_28832\\1081909300.py:47: FutureWarning: The frame.append method is deprecated and will be removed from pandas in a future version. Use pandas.concat instead.\n",
      "  record_df = record_df.append(new_row, ignore_index=True)\n"
     ]
    },
    {
     "name": "stdout",
     "output_type": "stream",
     "text": [
      "Inference Time: 0:00:00.147930\n",
      "277.3333333333333\n",
      "416.0\n",
      "065circle_2p5_0\n",
      "(600, 400, 3)\n",
      "Inference Time: 0:00:00.193036\n",
      "277.3333333333333\n",
      "416.0\n"
     ]
    },
    {
     "name": "stderr",
     "output_type": "stream",
     "text": [
      "C:\\Users\\Mechano_2\\AppData\\Local\\Temp\\ipykernel_28832\\1081909300.py:47: FutureWarning: The frame.append method is deprecated and will be removed from pandas in a future version. Use pandas.concat instead.\n",
      "  record_df = record_df.append(new_row, ignore_index=True)\n",
      "C:\\Users\\Mechano_2\\AppData\\Local\\Temp\\ipykernel_28832\\1081909300.py:47: FutureWarning: The frame.append method is deprecated and will be removed from pandas in a future version. Use pandas.concat instead.\n",
      "  record_df = record_df.append(new_row, ignore_index=True)\n"
     ]
    },
    {
     "name": "stdout",
     "output_type": "stream",
     "text": [
      "065circle_2p5_1\n",
      "(600, 400, 3)\n",
      "Inference Time: 0:00:00.209953\n",
      "277.3333333333333\n",
      "416.0\n",
      "066circle_2p5_0\n",
      "(600, 400, 3)\n"
     ]
    },
    {
     "name": "stderr",
     "output_type": "stream",
     "text": [
      "C:\\Users\\Mechano_2\\AppData\\Local\\Temp\\ipykernel_28832\\1081909300.py:47: FutureWarning: The frame.append method is deprecated and will be removed from pandas in a future version. Use pandas.concat instead.\n",
      "  record_df = record_df.append(new_row, ignore_index=True)\n",
      "C:\\Users\\Mechano_2\\AppData\\Local\\Temp\\ipykernel_28832\\1081909300.py:47: FutureWarning: The frame.append method is deprecated and will be removed from pandas in a future version. Use pandas.concat instead.\n",
      "  record_df = record_df.append(new_row, ignore_index=True)\n"
     ]
    },
    {
     "name": "stdout",
     "output_type": "stream",
     "text": [
      "Inference Time: 0:00:00.194397\n",
      "277.3333333333333\n",
      "416.0\n",
      "066circle_2p5_1\n",
      "(600, 400, 3)\n",
      "Inference Time: 0:00:00.198454\n",
      "277.3333333333333\n",
      "416.0\n"
     ]
    },
    {
     "name": "stderr",
     "output_type": "stream",
     "text": [
      "C:\\Users\\Mechano_2\\AppData\\Local\\Temp\\ipykernel_28832\\1081909300.py:47: FutureWarning: The frame.append method is deprecated and will be removed from pandas in a future version. Use pandas.concat instead.\n",
      "  record_df = record_df.append(new_row, ignore_index=True)\n",
      "C:\\Users\\Mechano_2\\AppData\\Local\\Temp\\ipykernel_28832\\1081909300.py:47: FutureWarning: The frame.append method is deprecated and will be removed from pandas in a future version. Use pandas.concat instead.\n",
      "  record_df = record_df.append(new_row, ignore_index=True)\n",
      "C:\\Users\\Mechano_2\\AppData\\Local\\Temp\\ipykernel_28832\\1081909300.py:47: FutureWarning: The frame.append method is deprecated and will be removed from pandas in a future version. Use pandas.concat instead.\n",
      "  record_df = record_df.append(new_row, ignore_index=True)\n"
     ]
    },
    {
     "name": "stdout",
     "output_type": "stream",
     "text": [
      "067circle_2p5_0\n",
      "(600, 400, 3)\n",
      "Inference Time: 0:00:00.271833\n",
      "277.3333333333333\n",
      "416.0\n",
      "067circle_2p5_1\n",
      "(600, 400, 3)\n"
     ]
    },
    {
     "name": "stderr",
     "output_type": "stream",
     "text": [
      "C:\\Users\\Mechano_2\\AppData\\Local\\Temp\\ipykernel_28832\\1081909300.py:47: FutureWarning: The frame.append method is deprecated and will be removed from pandas in a future version. Use pandas.concat instead.\n",
      "  record_df = record_df.append(new_row, ignore_index=True)\n"
     ]
    },
    {
     "name": "stdout",
     "output_type": "stream",
     "text": [
      "Inference Time: 0:00:00.217930\n",
      "277.3333333333333\n",
      "416.0\n",
      "068circle_2p5_0\n",
      "(600, 400, 3)\n",
      "Inference Time: 0:00:00.190690\n",
      "277.3333333333333\n",
      "416.0\n",
      "068circle_2p5_1\n"
     ]
    },
    {
     "name": "stderr",
     "output_type": "stream",
     "text": [
      "C:\\Users\\Mechano_2\\AppData\\Local\\Temp\\ipykernel_28832\\1081909300.py:47: FutureWarning: The frame.append method is deprecated and will be removed from pandas in a future version. Use pandas.concat instead.\n",
      "  record_df = record_df.append(new_row, ignore_index=True)\n",
      "C:\\Users\\Mechano_2\\AppData\\Local\\Temp\\ipykernel_28832\\1081909300.py:47: FutureWarning: The frame.append method is deprecated and will be removed from pandas in a future version. Use pandas.concat instead.\n",
      "  record_df = record_df.append(new_row, ignore_index=True)\n"
     ]
    },
    {
     "name": "stdout",
     "output_type": "stream",
     "text": [
      "(600, 400, 3)\n",
      "Inference Time: 0:00:00.203934\n",
      "277.3333333333333\n",
      "416.0\n",
      "069circle_2p5_0\n",
      "(600, 400, 3)\n"
     ]
    },
    {
     "name": "stderr",
     "output_type": "stream",
     "text": [
      "C:\\Users\\Mechano_2\\AppData\\Local\\Temp\\ipykernel_28832\\1081909300.py:47: FutureWarning: The frame.append method is deprecated and will be removed from pandas in a future version. Use pandas.concat instead.\n",
      "  record_df = record_df.append(new_row, ignore_index=True)\n",
      "C:\\Users\\Mechano_2\\AppData\\Local\\Temp\\ipykernel_28832\\1081909300.py:47: FutureWarning: The frame.append method is deprecated and will be removed from pandas in a future version. Use pandas.concat instead.\n",
      "  record_df = record_df.append(new_row, ignore_index=True)\n"
     ]
    },
    {
     "name": "stdout",
     "output_type": "stream",
     "text": [
      "Inference Time: 0:00:00.187940\n",
      "277.3333333333333\n",
      "416.0\n",
      "069circle_2p5_1\n",
      "(600, 400, 3)\n",
      "Inference Time: 0:00:00.186319\n",
      "277.3333333333333\n",
      "416.0\n",
      "070circle_2p5_0\n"
     ]
    },
    {
     "name": "stderr",
     "output_type": "stream",
     "text": [
      "C:\\Users\\Mechano_2\\AppData\\Local\\Temp\\ipykernel_28832\\1081909300.py:47: FutureWarning: The frame.append method is deprecated and will be removed from pandas in a future version. Use pandas.concat instead.\n",
      "  record_df = record_df.append(new_row, ignore_index=True)\n",
      "C:\\Users\\Mechano_2\\AppData\\Local\\Temp\\ipykernel_28832\\1081909300.py:47: FutureWarning: The frame.append method is deprecated and will be removed from pandas in a future version. Use pandas.concat instead.\n",
      "  record_df = record_df.append(new_row, ignore_index=True)\n",
      "C:\\Users\\Mechano_2\\AppData\\Local\\Temp\\ipykernel_28832\\1081909300.py:47: FutureWarning: The frame.append method is deprecated and will be removed from pandas in a future version. Use pandas.concat instead.\n",
      "  record_df = record_df.append(new_row, ignore_index=True)\n"
     ]
    },
    {
     "name": "stdout",
     "output_type": "stream",
     "text": [
      "(600, 400, 3)\n",
      "Inference Time: 0:00:00.194955\n",
      "277.3333333333333\n",
      "416.0\n",
      "070circle_2p5_1\n",
      "(600, 400, 3)\n",
      "Inference Time: 0:00:00.190699\n",
      "277.3333333333333\n",
      "416.0\n",
      "071circle_2p5_0\n",
      "(600, 400, 3)\n",
      "Inference Time: 0:00:00.192098\n"
     ]
    },
    {
     "name": "stderr",
     "output_type": "stream",
     "text": [
      "C:\\Users\\Mechano_2\\AppData\\Local\\Temp\\ipykernel_28832\\1081909300.py:47: FutureWarning: The frame.append method is deprecated and will be removed from pandas in a future version. Use pandas.concat instead.\n",
      "  record_df = record_df.append(new_row, ignore_index=True)\n"
     ]
    },
    {
     "name": "stdout",
     "output_type": "stream",
     "text": [
      "277.3333333333333\n",
      "416.0\n",
      "071circle_2p5_1\n",
      "(600, 400, 3)\n",
      "Inference Time: 0:00:00.260314\n",
      "277.3333333333333\n",
      "416.0\n",
      "072circle_2p5_0\n",
      "(600, 400, 3)\n",
      "Inference Time: 0:00:00.137638\n",
      "277.3333333333333\n",
      "416.0\n",
      "072circle_2p5_1\n"
     ]
    },
    {
     "name": "stderr",
     "output_type": "stream",
     "text": [
      "C:\\Users\\Mechano_2\\AppData\\Local\\Temp\\ipykernel_28832\\1081909300.py:47: FutureWarning: The frame.append method is deprecated and will be removed from pandas in a future version. Use pandas.concat instead.\n",
      "  record_df = record_df.append(new_row, ignore_index=True)\n",
      "C:\\Users\\Mechano_2\\AppData\\Local\\Temp\\ipykernel_28832\\1081909300.py:47: FutureWarning: The frame.append method is deprecated and will be removed from pandas in a future version. Use pandas.concat instead.\n",
      "  record_df = record_df.append(new_row, ignore_index=True)\n",
      "C:\\Users\\Mechano_2\\AppData\\Local\\Temp\\ipykernel_28832\\1081909300.py:47: FutureWarning: The frame.append method is deprecated and will be removed from pandas in a future version. Use pandas.concat instead.\n",
      "  record_df = record_df.append(new_row, ignore_index=True)\n"
     ]
    },
    {
     "name": "stdout",
     "output_type": "stream",
     "text": [
      "(600, 400, 3)\n",
      "Inference Time: 0:00:00.186929\n",
      "277.3333333333333\n",
      "416.0\n",
      "073circle_2p5_0\n",
      "(600, 400, 3)\n",
      "Inference Time: 0:00:00.178483\n",
      "277.3333333333333\n",
      "416.0\n",
      "073circle_2p5_1\n",
      "(600, 400, 3)\n",
      "Inference Time: 0:00:00.190480\n",
      "277.3333333333333\n",
      "416.0\n",
      "074circle_2p5_0\n",
      "(600, 400, 3)\n",
      "Inference Time: 0:00:00.260521\n",
      "277.3333333333333\n",
      "416.0\n",
      "074circle_2p5_1\n",
      "(600, 400, 3)\n",
      "Inference Time: 0:00:00.147013\n",
      "277.3333333333333\n",
      "416.0\n",
      "075circle_2p5_0\n",
      "(600, 400, 3)\n",
      "Inference Time: 0:00:00.224007\n",
      "277.3333333333333\n",
      "416.0\n",
      "075circle_2p5_1\n",
      "(600, 400, 3)\n",
      "Inference Time: 0:00:00.192762\n",
      "277.3333333333333\n",
      "416.0\n"
     ]
    },
    {
     "name": "stderr",
     "output_type": "stream",
     "text": [
      "C:\\Users\\Mechano_2\\AppData\\Local\\Temp\\ipykernel_28832\\1081909300.py:47: FutureWarning: The frame.append method is deprecated and will be removed from pandas in a future version. Use pandas.concat instead.\n",
      "  record_df = record_df.append(new_row, ignore_index=True)\n",
      "C:\\Users\\Mechano_2\\AppData\\Local\\Temp\\ipykernel_28832\\1081909300.py:47: FutureWarning: The frame.append method is deprecated and will be removed from pandas in a future version. Use pandas.concat instead.\n",
      "  record_df = record_df.append(new_row, ignore_index=True)\n"
     ]
    },
    {
     "name": "stdout",
     "output_type": "stream",
     "text": [
      "076circle_2p5_0\n",
      "(600, 400, 3)\n",
      "Inference Time: 0:00:00.201508\n",
      "277.3333333333333\n",
      "416.0\n",
      "076circle_2p5_1\n",
      "(600, 400, 3)\n",
      "Inference Time: 0:00:00.201185\n",
      "277.3333333333333\n",
      "416.0\n",
      "077circle_2p5_0\n",
      "(600, 400, 3)\n",
      "Inference Time: 0:00:00.223779\n",
      "277.3333333333333\n",
      "416.0\n",
      "077circle_2p5_1\n",
      "(600, 400, 3)\n",
      "Inference Time: 0:00:00.202935\n",
      "277.3333333333333\n",
      "416.0\n",
      "078circle_2p5_0\n",
      "(600, 400, 3)\n",
      "Inference Time: 0:00:00.185941\n",
      "277.3333333333333\n",
      "416.0\n",
      "078circle_2p5_1\n",
      "(600, 400, 3)\n",
      "Inference Time: 0:00:00.195289\n",
      "277.3333333333333\n",
      "416.0\n",
      "079circle_2p5_0\n",
      "(600, 400, 3)\n"
     ]
    },
    {
     "name": "stderr",
     "output_type": "stream",
     "text": [
      "C:\\Users\\Mechano_2\\AppData\\Local\\Temp\\ipykernel_28832\\1081909300.py:47: FutureWarning: The frame.append method is deprecated and will be removed from pandas in a future version. Use pandas.concat instead.\n",
      "  record_df = record_df.append(new_row, ignore_index=True)\n"
     ]
    },
    {
     "name": "stdout",
     "output_type": "stream",
     "text": [
      "Inference Time: 0:00:00.185793\n",
      "277.3333333333333\n",
      "416.0\n",
      "079circle_2p5_1\n",
      "(600, 400, 3)\n",
      "Inference Time: 0:00:00.190696\n",
      "277.3333333333333\n",
      "416.0\n",
      "080circle_2p5_0\n",
      "(600, 400, 3)\n",
      "Inference Time: 0:00:00.189939\n",
      "277.3333333333333\n",
      "416.0\n",
      "080circle_2p5_1\n",
      "(600, 400, 3)\n",
      "Inference Time: 0:00:00.205934\n",
      "277.3333333333333\n",
      "416.0\n",
      "081circle_2p5_0\n",
      "(600, 400, 3)\n",
      "Inference Time: 0:00:00.193959\n",
      "277.3333333333333\n",
      "416.0\n",
      "081circle_2p5_1\n",
      "(600, 400, 3)\n",
      "Inference Time: 0:00:00.192314\n",
      "277.3333333333333\n",
      "416.0\n",
      "082circle_2p5_0\n",
      "(600, 400, 3)\n",
      "Inference Time: 0:00:00.278601\n",
      "277.3333333333333\n",
      "416.0\n",
      "082circle_2p5_1\n",
      "(600, 400, 3)\n",
      "Inference Time: 0:00:00.222203\n",
      "277.3333333333333\n",
      "416.0\n",
      "083circle_2p5_0\n",
      "(600, 400, 3)\n",
      "Inference Time: 0:00:00.182066\n",
      "277.3333333333333\n",
      "416.0\n",
      "083circle_2p5_1\n",
      "(600, 400, 3)\n",
      "Inference Time: 0:00:00.273839\n",
      "277.3333333333333\n",
      "416.0\n",
      "084circle_2p5_0\n",
      "(600, 400, 3)\n",
      "Inference Time: 0:00:00.138711\n",
      "277.3333333333333\n",
      "416.0\n",
      "084circle_2p5_1\n",
      "(600, 400, 3)\n",
      "Inference Time: 0:00:00.165117\n",
      "277.3333333333333\n",
      "416.0\n",
      "085circle_2p5_0\n",
      "(600, 400, 3)\n",
      "Inference Time: 0:00:00.177679\n",
      "277.3333333333333\n",
      "416.0\n",
      "085circle_2p5_1\n",
      "(600, 400, 3)\n",
      "Inference Time: 0:00:00.174656\n",
      "277.3333333333333\n",
      "416.0\n",
      "086circle_2p5_0\n",
      "(600, 400, 3)\n",
      "Inference Time: 0:00:00.278796\n",
      "277.3333333333333\n",
      "416.0\n",
      "086circle_2p5_1\n",
      "(600, 400, 3)\n",
      "Inference Time: 0:00:00.143954\n",
      "277.3333333333333\n",
      "416.0\n",
      "087circle_2p5_0\n",
      "(600, 400, 3)\n",
      "Inference Time: 0:00:00.195145\n",
      "277.3333333333333\n",
      "416.0\n",
      "087circle_2p5_1\n",
      "(600, 400, 3)\n",
      "Inference Time: 0:00:00.193921\n",
      "277.3333333333333\n",
      "416.0\n",
      "088circle_2p5_0\n",
      "(600, 400, 3)\n",
      "Inference Time: 0:00:00.200789\n",
      "277.3333333333333\n",
      "416.0\n",
      "088circle_2p5_1\n",
      "(600, 400, 3)\n",
      "Inference Time: 0:00:00.200536\n",
      "277.3333333333333\n",
      "416.0\n",
      "089circle_2p5_0\n",
      "(600, 400, 3)\n",
      "Inference Time: 0:00:00.201758\n",
      "277.3333333333333\n",
      "416.0\n",
      "089circle_2p5_1\n",
      "(600, 400, 3)\n",
      "Inference Time: 0:00:00.259590\n",
      "277.3333333333333\n",
      "416.0\n",
      "090circle_2p5_0\n",
      "(600, 400, 3)\n",
      "Inference Time: 0:00:00.225904\n",
      "277.3333333333333\n",
      "416.0\n",
      "090circle_2p5_1\n",
      "(600, 400, 3)\n",
      "Inference Time: 0:00:00.274117\n",
      "277.3333333333333\n",
      "416.0\n",
      "091circle_2p5_0\n",
      "(600, 400, 3)\n",
      "Inference Time: 0:00:00.121960\n",
      "277.3333333333333\n",
      "416.0\n",
      "091circle_2p5_1\n",
      "(600, 400, 3)\n",
      "Inference Time: 0:00:00.137793\n",
      "277.3333333333333\n",
      "416.0\n",
      "092circle_2p5_0\n",
      "(600, 400, 3)\n",
      "Inference Time: 0:00:00.157889\n",
      "277.3333333333333\n",
      "416.0\n",
      "092circle_2p5_1\n",
      "(600, 400, 3)\n",
      "Inference Time: 0:00:00.241002\n",
      "277.3333333333333\n",
      "416.0\n",
      "093circle_2p5_0\n",
      "(600, 400, 3)\n",
      "Inference Time: 0:00:00.109947\n",
      "277.3333333333333\n",
      "416.0\n",
      "093circle_2p5_1\n",
      "(600, 400, 3)\n",
      "Inference Time: 0:00:00.172945\n",
      "277.3333333333333\n",
      "416.0\n",
      "094circle_2p5_0\n",
      "(600, 400, 3)\n",
      "Inference Time: 0:00:00.153952\n",
      "277.3333333333333\n",
      "416.0\n",
      "094circle_2p5_1\n",
      "(600, 400, 3)\n",
      "Inference Time: 0:00:00.213765\n",
      "277.3333333333333\n",
      "416.0\n",
      "095circle_2p5_0\n",
      "(600, 400, 3)\n",
      "Inference Time: 0:00:00.104990\n",
      "277.3333333333333\n",
      "416.0\n",
      "095circle_2p5_1\n",
      "(600, 400, 3)\n",
      "Inference Time: 0:00:00.138956\n",
      "277.3333333333333\n",
      "416.0\n",
      "096circle_2p5_0\n",
      "(600, 400, 3)\n",
      "Inference Time: 0:00:00.137556\n",
      "277.3333333333333\n",
      "416.0\n",
      "096circle_2p5_1\n",
      "(600, 400, 3)\n",
      "Inference Time: 0:00:00.138508\n",
      "277.3333333333333\n",
      "416.0\n",
      "097circle_2p5_0\n",
      "(600, 400, 3)\n",
      "Inference Time: 0:00:00.137116\n",
      "277.3333333333333\n",
      "416.0\n",
      "097circle_2p5_1\n",
      "(600, 400, 3)\n",
      "Inference Time: 0:00:00.160665\n",
      "277.3333333333333\n",
      "416.0\n",
      "098circle_2p5_0\n",
      "(600, 400, 3)\n",
      "Inference Time: 0:00:00.161179\n",
      "277.3333333333333\n",
      "416.0\n",
      "098circle_2p5_1\n",
      "(600, 400, 3)\n",
      "Inference Time: 0:00:00.184681\n",
      "277.3333333333333\n",
      "416.0\n",
      "099circle_2p5_0\n",
      "(600, 400, 3)\n",
      "Inference Time: 0:00:00.178434\n",
      "277.3333333333333\n",
      "416.0\n",
      "099circle_2p5_1\n",
      "(600, 400, 3)\n",
      "Inference Time: 0:00:00.176626\n",
      "277.3333333333333\n",
      "416.0\n",
      "100circle_2p5_0\n",
      "(600, 400, 3)\n",
      "Inference Time: 0:00:00.166586\n",
      "277.3333333333333\n",
      "416.0\n",
      "100circle_2p5_1\n",
      "(600, 400, 3)\n",
      "Inference Time: 0:00:00.162436\n",
      "277.3333333333333\n",
      "416.0\n"
     ]
    }
   ],
   "source": [
    "for i in range(len(img_path)):\n",
    "# img_path = \"images/blueangels.npy\"\n",
    "    frame=os.path.splitext(os.path.basename(img_path[i]))[0]\n",
    "    print(frame)\n",
    "    prev_time = time.time()\n",
    "# img = Image.open(img_path)\n",
    "#     img = np.load(img_path[i])\n",
    "    img = np.array(np.load(img_path[i]), dtype='float')\n",
    "    # print(img[300][600])\n",
    "    print(img.shape)\n",
    "    detections = detect_image(img)\n",
    "    inference_time = datetime.timedelta(seconds=time.time() - prev_time)\n",
    "    print ('Inference Time: %s' % (inference_time))\n",
    "\n",
    "# Get bounding-box colors\n",
    "    cmap = plt.get_cmap('tab20b')\n",
    "    colors = [cmap(i) for i in np.linspace(0, 1, 20)]\n",
    "\n",
    "    img = np.array(img)\n",
    "    # plt.figure()\n",
    "    # fig, ax = plt.subplots(1, figsize=(5,5))\n",
    "    # shw = ax.contourf(img[:, :, 0], 20, cmap='jet')\n",
    "    # bar = plt.colorbar(shw)\n",
    "    # ax.invert_yaxis()\n",
    "    # ax.imshow(img)\n",
    "\n",
    "    pad_x = max(img.shape[0] - img.shape[1], 0) * (img_size / max(img.shape))\n",
    "    pad_y = max(img.shape[1] - img.shape[0], 0) * (img_size / max(img.shape))\n",
    "    unpad_h = img_size - pad_y\n",
    "    unpad_w = img_size - pad_x\n",
    "    print(unpad_w)\n",
    "    print(unpad_h)\n",
    "    if detections is not None:\n",
    "       unique_labels = detections[:, -1].cpu().unique()\n",
    "       n_cls_preds = len(unique_labels)\n",
    "       bbox_colors = random.sample(colors, n_cls_preds)\n",
    "    # browse detections and draw bounding boxes\n",
    "       for x1, y1, x2, y2, conf, cls_conf, cls_pred in detections:\n",
    "           box_h = (((y2 - y1) / unpad_h) * img.shape[0])\n",
    "           box_w = ((x2 - x1) / unpad_w) * img.shape[1]\n",
    "           y1 = ((y1 - pad_y // 2) / unpad_h) * img.shape[0]\n",
    "           x1 = ((x1 - pad_x // 2) / unpad_w) * img.shape[1]\n",
    "           conf = \"{:.2f}\".format(conf*100)\n",
    "           cls_conf = \"{:.2f}\".format(cls_conf*100)\n",
    "           record_df = pd.DataFrame(columns=['frame', 'probability', 'key','xmin','ymin','w','h'])\n",
    "           new_row = {'frame':frame,'probability' : cls_conf,'key': classes[int(cls_pred.cpu())],'xmin':x1.cpu().numpy(),'ymin':y1.cpu().numpy(),'w':box_w.cpu().numpy(),'h':box_h.cpu().numpy()}\n",
    "           record_df = record_df.append(new_row, ignore_index=True)\n",
    "           record_df.to_csv('data_file.csv',mode='a', index=False,header=not os.path.exists('data_file.csv'))\n",
    "           # print(conf)\n",
    "           # print(cls_conf)\n",
    "           # print(y1)\n",
    "           # print(x1)\n",
    "           # print()\n",
    "           # color = bbox_colors[int(np.where(unique_labels == int(cls_pred))[0])]\n",
    "           # bbox = patches.Rectangle((x1.cpu(), y1.cpu()), box_w.cpu(), box_h.cpu(), linewidth=2, edgecolor=color, facecolor='none')\n",
    "           # ax.add_patch(bbox)\n",
    "           # plt.text(x1, y1, s='{}:{}'.format(classes[int(cls_pred)],cls_conf),fontsize=20, color='white', verticalalignment='top',\n",
    "           #      bbox={'color': color, 'pad': 0})\n",
    "           # plt.axis('off')\n",
    "# save image\n",
    "#     plt.savefig('D:/yolov3_pytorch_on_backside_crack/save_result_png/'+str(frame)+'.png', bbox_inches='tight', pad_inches=0.0)\n",
    "    # plt.show()"
   ],
   "metadata": {
    "collapsed": false,
    "pycharm": {
     "name": "#%%\n"
    }
   }
  },
  {
   "cell_type": "code",
   "execution_count": 50,
   "metadata": {
    "pycharm": {
     "name": "#%%\n"
    }
   },
   "outputs": [],
   "source": []
  }
 ],
 "metadata": {
  "kernelspec": {
   "name": "python3",
   "language": "python",
   "display_name": "Python 3 (ipykernel)"
  },
  "language_info": {
   "codemirror_mode": {
    "name": "ipython",
    "version": 3
   },
   "file_extension": ".py",
   "mimetype": "text/x-python",
   "name": "python",
   "nbconvert_exporter": "python",
   "pygments_lexer": "ipython3",
   "version": "3.6.5"
  }
 },
 "nbformat": 4,
 "nbformat_minor": 2
}